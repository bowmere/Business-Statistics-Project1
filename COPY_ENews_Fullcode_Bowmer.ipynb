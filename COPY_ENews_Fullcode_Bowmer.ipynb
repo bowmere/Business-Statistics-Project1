{
  "nbformat": 4,
  "nbformat_minor": 5,
  "metadata": {
    "kernelspec": {
      "display_name": "Python 3",
      "language": "python",
      "name": "python3"
    },
    "language_info": {
      "codemirror_mode": {
        "name": "ipython",
        "version": 3
      },
      "file_extension": ".py",
      "mimetype": "text/x-python",
      "name": "python",
      "nbconvert_exporter": "python",
      "pygments_lexer": "ipython3",
      "version": "3.8.8"
    },
    "colab": {
      "provenance": [],
      "collapsed_sections": [
        "a6a3d218",
        "6970dd99",
        "56b3dafd",
        "8d585a90",
        "3acbc947"
      ]
    }
  },
  "cells": [
    {
      "cell_type": "code",
      "source": [],
      "metadata": {
        "id": "05_7wMfdmTsF"
      },
      "id": "05_7wMfdmTsF",
      "execution_count": null,
      "outputs": []
    },
    {
      "cell_type": "markdown",
      "metadata": {
        "id": "6yDxo9u0d9Na"
      },
      "source": [
        "# Project Business Statistics: E-news Express\n",
        "\n",
        "**Marks: 60**"
      ],
      "id": "6yDxo9u0d9Na"
    },
    {
      "cell_type": "markdown",
      "metadata": {
        "id": "SrLd-ICEmPSD"
      },
      "source": [
        "## Define Problem Statement and Objectives"
      ],
      "id": "SrLd-ICEmPSD"
    },
    {
      "cell_type": "markdown",
      "metadata": {
        "id": "9Vt1PLLqmXNn"
      },
      "source": [
        "In order to test the effectiveness of the new landing page in gathering new subscribers, the Data Science team conducted an experiment by randomly selecting 100 users and dividing them equally into two groups: Control (old page) & Treatment (new pae).\n",
        "\n",
        "We will explore the data and perform a statistical analysis (at a significance level of 5%) to determine the effectiveness of the new landing page in gathering new subscribers for the news portal by answering the following questions:\n",
        "\n",
        "- Do the users spend more time on the new landing page than on the existing landing page?\n",
        "- Is the conversion rate (the proportion of users who visit the landing page and get converted) for the new page greater than the conversion rate for the old page?\n",
        "- Does the converted status depend on the preferred language?\n",
        "- Is the time spent on the new page the same for the different language users?"
      ],
      "id": "9Vt1PLLqmXNn"
    },
    {
      "cell_type": "markdown",
      "metadata": {
        "id": "a6a3d218"
      },
      "source": [
        "## Import all the necessary libraries"
      ],
      "id": "a6a3d218"
    },
    {
      "cell_type": "code",
      "metadata": {
        "id": "658c5dec",
        "colab": {
          "base_uri": "https://localhost:8080/"
        },
        "outputId": "f274f7f9-bedd-4c85-da1c-9be40cf0bd67"
      },
      "source": [
        "from google.colab import drive\n",
        "drive.mount('/content/drive')\n",
        "\n",
        "# Import libraries for data manipulation\n",
        "import numpy as np\n",
        "import pandas as pd\n",
        "\n",
        "# Import libraries for data visualization\n",
        "import matplotlib.pyplot as plt\n",
        "import seaborn as sns\n",
        "%matplotlib inline\n",
        "import scipy.stats as stats #probability calcuations"
      ],
      "id": "658c5dec",
      "execution_count": null,
      "outputs": [
        {
          "output_type": "stream",
          "name": "stdout",
          "text": [
            "Drive already mounted at /content/drive; to attempt to forcibly remount, call drive.mount(\"/content/drive\", force_remount=True).\n"
          ]
        }
      ]
    },
    {
      "cell_type": "markdown",
      "metadata": {
        "id": "6970dd99"
      },
      "source": [
        "## Reading the Data into a DataFrame"
      ],
      "id": "6970dd99"
    },
    {
      "cell_type": "code",
      "metadata": {
        "id": "d3b95640"
      },
      "source": [
        "enews = pd.read_csv('/content/drive/MyDrive/DSBA Certificate/abtest_Project2_data.csv')"
      ],
      "id": "d3b95640",
      "execution_count": null,
      "outputs": []
    },
    {
      "cell_type": "markdown",
      "metadata": {
        "id": "9d75cfa2"
      },
      "source": [
        "## Explore the dataset and extract insights using Exploratory Data Analysis"
      ],
      "id": "9d75cfa2"
    },
    {
      "cell_type": "markdown",
      "metadata": {
        "id": "27201534"
      },
      "source": [
        "- Data Overview\n",
        "  - Viewing the first and last few rows of the dataset\n",
        "  - Checking the shape of the dataset\n",
        "  - Getting the statistical summary for the variables\n",
        "- Check for missing values\n",
        "- Check for duplicates"
      ],
      "id": "27201534"
    },
    {
      "cell_type": "code",
      "metadata": {
        "id": "e1ad11d4",
        "colab": {
          "base_uri": "https://localhost:8080/",
          "height": 206
        },
        "outputId": "306e7c2b-550e-4abf-c975-caa268714532"
      },
      "source": [
        "#read the first few rows of data set called enews\n",
        "enews.head()"
      ],
      "id": "e1ad11d4",
      "execution_count": null,
      "outputs": [
        {
          "output_type": "execute_result",
          "data": {
            "text/plain": [
              "   user_id      group landing_page  time_spent_on_the_page converted  \\\n",
              "0   546592    control          old                    3.48        no   \n",
              "1   546468  treatment          new                    7.13       yes   \n",
              "2   546462  treatment          new                    4.40        no   \n",
              "3   546567    control          old                    3.02        no   \n",
              "4   546459  treatment          new                    4.75       yes   \n",
              "\n",
              "  language_preferred  \n",
              "0            Spanish  \n",
              "1            English  \n",
              "2            Spanish  \n",
              "3             French  \n",
              "4            Spanish  "
            ],
            "text/html": [
              "\n",
              "  <div id=\"df-792f6fd6-8ee2-41dd-9844-da774e0e521e\" class=\"colab-df-container\">\n",
              "    <div>\n",
              "<style scoped>\n",
              "    .dataframe tbody tr th:only-of-type {\n",
              "        vertical-align: middle;\n",
              "    }\n",
              "\n",
              "    .dataframe tbody tr th {\n",
              "        vertical-align: top;\n",
              "    }\n",
              "\n",
              "    .dataframe thead th {\n",
              "        text-align: right;\n",
              "    }\n",
              "</style>\n",
              "<table border=\"1\" class=\"dataframe\">\n",
              "  <thead>\n",
              "    <tr style=\"text-align: right;\">\n",
              "      <th></th>\n",
              "      <th>user_id</th>\n",
              "      <th>group</th>\n",
              "      <th>landing_page</th>\n",
              "      <th>time_spent_on_the_page</th>\n",
              "      <th>converted</th>\n",
              "      <th>language_preferred</th>\n",
              "    </tr>\n",
              "  </thead>\n",
              "  <tbody>\n",
              "    <tr>\n",
              "      <th>0</th>\n",
              "      <td>546592</td>\n",
              "      <td>control</td>\n",
              "      <td>old</td>\n",
              "      <td>3.48</td>\n",
              "      <td>no</td>\n",
              "      <td>Spanish</td>\n",
              "    </tr>\n",
              "    <tr>\n",
              "      <th>1</th>\n",
              "      <td>546468</td>\n",
              "      <td>treatment</td>\n",
              "      <td>new</td>\n",
              "      <td>7.13</td>\n",
              "      <td>yes</td>\n",
              "      <td>English</td>\n",
              "    </tr>\n",
              "    <tr>\n",
              "      <th>2</th>\n",
              "      <td>546462</td>\n",
              "      <td>treatment</td>\n",
              "      <td>new</td>\n",
              "      <td>4.40</td>\n",
              "      <td>no</td>\n",
              "      <td>Spanish</td>\n",
              "    </tr>\n",
              "    <tr>\n",
              "      <th>3</th>\n",
              "      <td>546567</td>\n",
              "      <td>control</td>\n",
              "      <td>old</td>\n",
              "      <td>3.02</td>\n",
              "      <td>no</td>\n",
              "      <td>French</td>\n",
              "    </tr>\n",
              "    <tr>\n",
              "      <th>4</th>\n",
              "      <td>546459</td>\n",
              "      <td>treatment</td>\n",
              "      <td>new</td>\n",
              "      <td>4.75</td>\n",
              "      <td>yes</td>\n",
              "      <td>Spanish</td>\n",
              "    </tr>\n",
              "  </tbody>\n",
              "</table>\n",
              "</div>\n",
              "    <div class=\"colab-df-buttons\">\n",
              "\n",
              "  <div class=\"colab-df-container\">\n",
              "    <button class=\"colab-df-convert\" onclick=\"convertToInteractive('df-792f6fd6-8ee2-41dd-9844-da774e0e521e')\"\n",
              "            title=\"Convert this dataframe to an interactive table.\"\n",
              "            style=\"display:none;\">\n",
              "\n",
              "  <svg xmlns=\"http://www.w3.org/2000/svg\" height=\"24px\" viewBox=\"0 -960 960 960\">\n",
              "    <path d=\"M120-120v-720h720v720H120Zm60-500h600v-160H180v160Zm220 220h160v-160H400v160Zm0 220h160v-160H400v160ZM180-400h160v-160H180v160Zm440 0h160v-160H620v160ZM180-180h160v-160H180v160Zm440 0h160v-160H620v160Z\"/>\n",
              "  </svg>\n",
              "    </button>\n",
              "\n",
              "  <style>\n",
              "    .colab-df-container {\n",
              "      display:flex;\n",
              "      gap: 12px;\n",
              "    }\n",
              "\n",
              "    .colab-df-convert {\n",
              "      background-color: #E8F0FE;\n",
              "      border: none;\n",
              "      border-radius: 50%;\n",
              "      cursor: pointer;\n",
              "      display: none;\n",
              "      fill: #1967D2;\n",
              "      height: 32px;\n",
              "      padding: 0 0 0 0;\n",
              "      width: 32px;\n",
              "    }\n",
              "\n",
              "    .colab-df-convert:hover {\n",
              "      background-color: #E2EBFA;\n",
              "      box-shadow: 0px 1px 2px rgba(60, 64, 67, 0.3), 0px 1px 3px 1px rgba(60, 64, 67, 0.15);\n",
              "      fill: #174EA6;\n",
              "    }\n",
              "\n",
              "    .colab-df-buttons div {\n",
              "      margin-bottom: 4px;\n",
              "    }\n",
              "\n",
              "    [theme=dark] .colab-df-convert {\n",
              "      background-color: #3B4455;\n",
              "      fill: #D2E3FC;\n",
              "    }\n",
              "\n",
              "    [theme=dark] .colab-df-convert:hover {\n",
              "      background-color: #434B5C;\n",
              "      box-shadow: 0px 1px 3px 1px rgba(0, 0, 0, 0.15);\n",
              "      filter: drop-shadow(0px 1px 2px rgba(0, 0, 0, 0.3));\n",
              "      fill: #FFFFFF;\n",
              "    }\n",
              "  </style>\n",
              "\n",
              "    <script>\n",
              "      const buttonEl =\n",
              "        document.querySelector('#df-792f6fd6-8ee2-41dd-9844-da774e0e521e button.colab-df-convert');\n",
              "      buttonEl.style.display =\n",
              "        google.colab.kernel.accessAllowed ? 'block' : 'none';\n",
              "\n",
              "      async function convertToInteractive(key) {\n",
              "        const element = document.querySelector('#df-792f6fd6-8ee2-41dd-9844-da774e0e521e');\n",
              "        const dataTable =\n",
              "          await google.colab.kernel.invokeFunction('convertToInteractive',\n",
              "                                                    [key], {});\n",
              "        if (!dataTable) return;\n",
              "\n",
              "        const docLinkHtml = 'Like what you see? Visit the ' +\n",
              "          '<a target=\"_blank\" href=https://colab.research.google.com/notebooks/data_table.ipynb>data table notebook</a>'\n",
              "          + ' to learn more about interactive tables.';\n",
              "        element.innerHTML = '';\n",
              "        dataTable['output_type'] = 'display_data';\n",
              "        await google.colab.output.renderOutput(dataTable, element);\n",
              "        const docLink = document.createElement('div');\n",
              "        docLink.innerHTML = docLinkHtml;\n",
              "        element.appendChild(docLink);\n",
              "      }\n",
              "    </script>\n",
              "  </div>\n",
              "\n",
              "\n",
              "<div id=\"df-761e2eec-b0a4-4b0f-af93-a743578dc644\">\n",
              "  <button class=\"colab-df-quickchart\" onclick=\"quickchart('df-761e2eec-b0a4-4b0f-af93-a743578dc644')\"\n",
              "            title=\"Suggest charts\"\n",
              "            style=\"display:none;\">\n",
              "\n",
              "<svg xmlns=\"http://www.w3.org/2000/svg\" height=\"24px\"viewBox=\"0 0 24 24\"\n",
              "     width=\"24px\">\n",
              "    <g>\n",
              "        <path d=\"M19 3H5c-1.1 0-2 .9-2 2v14c0 1.1.9 2 2 2h14c1.1 0 2-.9 2-2V5c0-1.1-.9-2-2-2zM9 17H7v-7h2v7zm4 0h-2V7h2v10zm4 0h-2v-4h2v4z\"/>\n",
              "    </g>\n",
              "</svg>\n",
              "  </button>\n",
              "\n",
              "<style>\n",
              "  .colab-df-quickchart {\n",
              "      --bg-color: #E8F0FE;\n",
              "      --fill-color: #1967D2;\n",
              "      --hover-bg-color: #E2EBFA;\n",
              "      --hover-fill-color: #174EA6;\n",
              "      --disabled-fill-color: #AAA;\n",
              "      --disabled-bg-color: #DDD;\n",
              "  }\n",
              "\n",
              "  [theme=dark] .colab-df-quickchart {\n",
              "      --bg-color: #3B4455;\n",
              "      --fill-color: #D2E3FC;\n",
              "      --hover-bg-color: #434B5C;\n",
              "      --hover-fill-color: #FFFFFF;\n",
              "      --disabled-bg-color: #3B4455;\n",
              "      --disabled-fill-color: #666;\n",
              "  }\n",
              "\n",
              "  .colab-df-quickchart {\n",
              "    background-color: var(--bg-color);\n",
              "    border: none;\n",
              "    border-radius: 50%;\n",
              "    cursor: pointer;\n",
              "    display: none;\n",
              "    fill: var(--fill-color);\n",
              "    height: 32px;\n",
              "    padding: 0;\n",
              "    width: 32px;\n",
              "  }\n",
              "\n",
              "  .colab-df-quickchart:hover {\n",
              "    background-color: var(--hover-bg-color);\n",
              "    box-shadow: 0 1px 2px rgba(60, 64, 67, 0.3), 0 1px 3px 1px rgba(60, 64, 67, 0.15);\n",
              "    fill: var(--button-hover-fill-color);\n",
              "  }\n",
              "\n",
              "  .colab-df-quickchart-complete:disabled,\n",
              "  .colab-df-quickchart-complete:disabled:hover {\n",
              "    background-color: var(--disabled-bg-color);\n",
              "    fill: var(--disabled-fill-color);\n",
              "    box-shadow: none;\n",
              "  }\n",
              "\n",
              "  .colab-df-spinner {\n",
              "    border: 2px solid var(--fill-color);\n",
              "    border-color: transparent;\n",
              "    border-bottom-color: var(--fill-color);\n",
              "    animation:\n",
              "      spin 1s steps(1) infinite;\n",
              "  }\n",
              "\n",
              "  @keyframes spin {\n",
              "    0% {\n",
              "      border-color: transparent;\n",
              "      border-bottom-color: var(--fill-color);\n",
              "      border-left-color: var(--fill-color);\n",
              "    }\n",
              "    20% {\n",
              "      border-color: transparent;\n",
              "      border-left-color: var(--fill-color);\n",
              "      border-top-color: var(--fill-color);\n",
              "    }\n",
              "    30% {\n",
              "      border-color: transparent;\n",
              "      border-left-color: var(--fill-color);\n",
              "      border-top-color: var(--fill-color);\n",
              "      border-right-color: var(--fill-color);\n",
              "    }\n",
              "    40% {\n",
              "      border-color: transparent;\n",
              "      border-right-color: var(--fill-color);\n",
              "      border-top-color: var(--fill-color);\n",
              "    }\n",
              "    60% {\n",
              "      border-color: transparent;\n",
              "      border-right-color: var(--fill-color);\n",
              "    }\n",
              "    80% {\n",
              "      border-color: transparent;\n",
              "      border-right-color: var(--fill-color);\n",
              "      border-bottom-color: var(--fill-color);\n",
              "    }\n",
              "    90% {\n",
              "      border-color: transparent;\n",
              "      border-bottom-color: var(--fill-color);\n",
              "    }\n",
              "  }\n",
              "</style>\n",
              "\n",
              "  <script>\n",
              "    async function quickchart(key) {\n",
              "      const quickchartButtonEl =\n",
              "        document.querySelector('#' + key + ' button');\n",
              "      quickchartButtonEl.disabled = true;  // To prevent multiple clicks.\n",
              "      quickchartButtonEl.classList.add('colab-df-spinner');\n",
              "      try {\n",
              "        const charts = await google.colab.kernel.invokeFunction(\n",
              "            'suggestCharts', [key], {});\n",
              "      } catch (error) {\n",
              "        console.error('Error during call to suggestCharts:', error);\n",
              "      }\n",
              "      quickchartButtonEl.classList.remove('colab-df-spinner');\n",
              "      quickchartButtonEl.classList.add('colab-df-quickchart-complete');\n",
              "    }\n",
              "    (() => {\n",
              "      let quickchartButtonEl =\n",
              "        document.querySelector('#df-761e2eec-b0a4-4b0f-af93-a743578dc644 button');\n",
              "      quickchartButtonEl.style.display =\n",
              "        google.colab.kernel.accessAllowed ? 'block' : 'none';\n",
              "    })();\n",
              "  </script>\n",
              "</div>\n",
              "\n",
              "    </div>\n",
              "  </div>\n"
            ],
            "application/vnd.google.colaboratory.intrinsic+json": {
              "type": "dataframe",
              "variable_name": "enews",
              "summary": "{\n  \"name\": \"enews\",\n  \"rows\": 100,\n  \"fields\": [\n    {\n      \"column\": \"user_id\",\n      \"properties\": {\n        \"dtype\": \"number\",\n        \"std\": 52,\n        \"min\": 546443,\n        \"max\": 546592,\n        \"num_unique_values\": 100,\n        \"samples\": [\n          546580,\n          546576,\n          546568\n        ],\n        \"semantic_type\": \"\",\n        \"description\": \"\"\n      }\n    },\n    {\n      \"column\": \"group\",\n      \"properties\": {\n        \"dtype\": \"category\",\n        \"num_unique_values\": 2,\n        \"samples\": [\n          \"treatment\",\n          \"control\"\n        ],\n        \"semantic_type\": \"\",\n        \"description\": \"\"\n      }\n    },\n    {\n      \"column\": \"landing_page\",\n      \"properties\": {\n        \"dtype\": \"category\",\n        \"num_unique_values\": 2,\n        \"samples\": [\n          \"new\",\n          \"old\"\n        ],\n        \"semantic_type\": \"\",\n        \"description\": \"\"\n      }\n    },\n    {\n      \"column\": \"time_spent_on_the_page\",\n      \"properties\": {\n        \"dtype\": \"number\",\n        \"std\": 2.378166078933492,\n        \"min\": 0.19,\n        \"max\": 10.71,\n        \"num_unique_values\": 94,\n        \"samples\": [\n          8.46,\n          3.65\n        ],\n        \"semantic_type\": \"\",\n        \"description\": \"\"\n      }\n    },\n    {\n      \"column\": \"converted\",\n      \"properties\": {\n        \"dtype\": \"category\",\n        \"num_unique_values\": 2,\n        \"samples\": [\n          \"yes\",\n          \"no\"\n        ],\n        \"semantic_type\": \"\",\n        \"description\": \"\"\n      }\n    },\n    {\n      \"column\": \"language_preferred\",\n      \"properties\": {\n        \"dtype\": \"category\",\n        \"num_unique_values\": 3,\n        \"samples\": [\n          \"Spanish\",\n          \"English\"\n        ],\n        \"semantic_type\": \"\",\n        \"description\": \"\"\n      }\n    }\n  ]\n}"
            }
          },
          "metadata": {},
          "execution_count": 59
        }
      ]
    },
    {
      "cell_type": "code",
      "source": [
        "#read last few rows of data set called ewnews\n",
        "enews.tail()"
      ],
      "metadata": {
        "colab": {
          "base_uri": "https://localhost:8080/",
          "height": 206
        },
        "id": "AQ_QjgRkuRHa",
        "outputId": "52b7f02f-3229-4e55-c8e4-7e22a04a3cc5"
      },
      "id": "AQ_QjgRkuRHa",
      "execution_count": null,
      "outputs": [
        {
          "output_type": "execute_result",
          "data": {
            "text/plain": [
              "    user_id      group landing_page  time_spent_on_the_page converted  \\\n",
              "95   546446  treatment          new                    5.15        no   \n",
              "96   546544    control          old                    6.52       yes   \n",
              "97   546472  treatment          new                    7.07       yes   \n",
              "98   546481  treatment          new                    6.20       yes   \n",
              "99   546483  treatment          new                    5.86       yes   \n",
              "\n",
              "   language_preferred  \n",
              "95            Spanish  \n",
              "96            English  \n",
              "97            Spanish  \n",
              "98            Spanish  \n",
              "99            English  "
            ],
            "text/html": [
              "\n",
              "  <div id=\"df-7a314cbc-528f-4aad-bd5d-063fd01ab59c\" class=\"colab-df-container\">\n",
              "    <div>\n",
              "<style scoped>\n",
              "    .dataframe tbody tr th:only-of-type {\n",
              "        vertical-align: middle;\n",
              "    }\n",
              "\n",
              "    .dataframe tbody tr th {\n",
              "        vertical-align: top;\n",
              "    }\n",
              "\n",
              "    .dataframe thead th {\n",
              "        text-align: right;\n",
              "    }\n",
              "</style>\n",
              "<table border=\"1\" class=\"dataframe\">\n",
              "  <thead>\n",
              "    <tr style=\"text-align: right;\">\n",
              "      <th></th>\n",
              "      <th>user_id</th>\n",
              "      <th>group</th>\n",
              "      <th>landing_page</th>\n",
              "      <th>time_spent_on_the_page</th>\n",
              "      <th>converted</th>\n",
              "      <th>language_preferred</th>\n",
              "    </tr>\n",
              "  </thead>\n",
              "  <tbody>\n",
              "    <tr>\n",
              "      <th>95</th>\n",
              "      <td>546446</td>\n",
              "      <td>treatment</td>\n",
              "      <td>new</td>\n",
              "      <td>5.15</td>\n",
              "      <td>no</td>\n",
              "      <td>Spanish</td>\n",
              "    </tr>\n",
              "    <tr>\n",
              "      <th>96</th>\n",
              "      <td>546544</td>\n",
              "      <td>control</td>\n",
              "      <td>old</td>\n",
              "      <td>6.52</td>\n",
              "      <td>yes</td>\n",
              "      <td>English</td>\n",
              "    </tr>\n",
              "    <tr>\n",
              "      <th>97</th>\n",
              "      <td>546472</td>\n",
              "      <td>treatment</td>\n",
              "      <td>new</td>\n",
              "      <td>7.07</td>\n",
              "      <td>yes</td>\n",
              "      <td>Spanish</td>\n",
              "    </tr>\n",
              "    <tr>\n",
              "      <th>98</th>\n",
              "      <td>546481</td>\n",
              "      <td>treatment</td>\n",
              "      <td>new</td>\n",
              "      <td>6.20</td>\n",
              "      <td>yes</td>\n",
              "      <td>Spanish</td>\n",
              "    </tr>\n",
              "    <tr>\n",
              "      <th>99</th>\n",
              "      <td>546483</td>\n",
              "      <td>treatment</td>\n",
              "      <td>new</td>\n",
              "      <td>5.86</td>\n",
              "      <td>yes</td>\n",
              "      <td>English</td>\n",
              "    </tr>\n",
              "  </tbody>\n",
              "</table>\n",
              "</div>\n",
              "    <div class=\"colab-df-buttons\">\n",
              "\n",
              "  <div class=\"colab-df-container\">\n",
              "    <button class=\"colab-df-convert\" onclick=\"convertToInteractive('df-7a314cbc-528f-4aad-bd5d-063fd01ab59c')\"\n",
              "            title=\"Convert this dataframe to an interactive table.\"\n",
              "            style=\"display:none;\">\n",
              "\n",
              "  <svg xmlns=\"http://www.w3.org/2000/svg\" height=\"24px\" viewBox=\"0 -960 960 960\">\n",
              "    <path d=\"M120-120v-720h720v720H120Zm60-500h600v-160H180v160Zm220 220h160v-160H400v160Zm0 220h160v-160H400v160ZM180-400h160v-160H180v160Zm440 0h160v-160H620v160ZM180-180h160v-160H180v160Zm440 0h160v-160H620v160Z\"/>\n",
              "  </svg>\n",
              "    </button>\n",
              "\n",
              "  <style>\n",
              "    .colab-df-container {\n",
              "      display:flex;\n",
              "      gap: 12px;\n",
              "    }\n",
              "\n",
              "    .colab-df-convert {\n",
              "      background-color: #E8F0FE;\n",
              "      border: none;\n",
              "      border-radius: 50%;\n",
              "      cursor: pointer;\n",
              "      display: none;\n",
              "      fill: #1967D2;\n",
              "      height: 32px;\n",
              "      padding: 0 0 0 0;\n",
              "      width: 32px;\n",
              "    }\n",
              "\n",
              "    .colab-df-convert:hover {\n",
              "      background-color: #E2EBFA;\n",
              "      box-shadow: 0px 1px 2px rgba(60, 64, 67, 0.3), 0px 1px 3px 1px rgba(60, 64, 67, 0.15);\n",
              "      fill: #174EA6;\n",
              "    }\n",
              "\n",
              "    .colab-df-buttons div {\n",
              "      margin-bottom: 4px;\n",
              "    }\n",
              "\n",
              "    [theme=dark] .colab-df-convert {\n",
              "      background-color: #3B4455;\n",
              "      fill: #D2E3FC;\n",
              "    }\n",
              "\n",
              "    [theme=dark] .colab-df-convert:hover {\n",
              "      background-color: #434B5C;\n",
              "      box-shadow: 0px 1px 3px 1px rgba(0, 0, 0, 0.15);\n",
              "      filter: drop-shadow(0px 1px 2px rgba(0, 0, 0, 0.3));\n",
              "      fill: #FFFFFF;\n",
              "    }\n",
              "  </style>\n",
              "\n",
              "    <script>\n",
              "      const buttonEl =\n",
              "        document.querySelector('#df-7a314cbc-528f-4aad-bd5d-063fd01ab59c button.colab-df-convert');\n",
              "      buttonEl.style.display =\n",
              "        google.colab.kernel.accessAllowed ? 'block' : 'none';\n",
              "\n",
              "      async function convertToInteractive(key) {\n",
              "        const element = document.querySelector('#df-7a314cbc-528f-4aad-bd5d-063fd01ab59c');\n",
              "        const dataTable =\n",
              "          await google.colab.kernel.invokeFunction('convertToInteractive',\n",
              "                                                    [key], {});\n",
              "        if (!dataTable) return;\n",
              "\n",
              "        const docLinkHtml = 'Like what you see? Visit the ' +\n",
              "          '<a target=\"_blank\" href=https://colab.research.google.com/notebooks/data_table.ipynb>data table notebook</a>'\n",
              "          + ' to learn more about interactive tables.';\n",
              "        element.innerHTML = '';\n",
              "        dataTable['output_type'] = 'display_data';\n",
              "        await google.colab.output.renderOutput(dataTable, element);\n",
              "        const docLink = document.createElement('div');\n",
              "        docLink.innerHTML = docLinkHtml;\n",
              "        element.appendChild(docLink);\n",
              "      }\n",
              "    </script>\n",
              "  </div>\n",
              "\n",
              "\n",
              "<div id=\"df-26ceced5-01a6-4b45-bad3-1a284122c9bc\">\n",
              "  <button class=\"colab-df-quickchart\" onclick=\"quickchart('df-26ceced5-01a6-4b45-bad3-1a284122c9bc')\"\n",
              "            title=\"Suggest charts\"\n",
              "            style=\"display:none;\">\n",
              "\n",
              "<svg xmlns=\"http://www.w3.org/2000/svg\" height=\"24px\"viewBox=\"0 0 24 24\"\n",
              "     width=\"24px\">\n",
              "    <g>\n",
              "        <path d=\"M19 3H5c-1.1 0-2 .9-2 2v14c0 1.1.9 2 2 2h14c1.1 0 2-.9 2-2V5c0-1.1-.9-2-2-2zM9 17H7v-7h2v7zm4 0h-2V7h2v10zm4 0h-2v-4h2v4z\"/>\n",
              "    </g>\n",
              "</svg>\n",
              "  </button>\n",
              "\n",
              "<style>\n",
              "  .colab-df-quickchart {\n",
              "      --bg-color: #E8F0FE;\n",
              "      --fill-color: #1967D2;\n",
              "      --hover-bg-color: #E2EBFA;\n",
              "      --hover-fill-color: #174EA6;\n",
              "      --disabled-fill-color: #AAA;\n",
              "      --disabled-bg-color: #DDD;\n",
              "  }\n",
              "\n",
              "  [theme=dark] .colab-df-quickchart {\n",
              "      --bg-color: #3B4455;\n",
              "      --fill-color: #D2E3FC;\n",
              "      --hover-bg-color: #434B5C;\n",
              "      --hover-fill-color: #FFFFFF;\n",
              "      --disabled-bg-color: #3B4455;\n",
              "      --disabled-fill-color: #666;\n",
              "  }\n",
              "\n",
              "  .colab-df-quickchart {\n",
              "    background-color: var(--bg-color);\n",
              "    border: none;\n",
              "    border-radius: 50%;\n",
              "    cursor: pointer;\n",
              "    display: none;\n",
              "    fill: var(--fill-color);\n",
              "    height: 32px;\n",
              "    padding: 0;\n",
              "    width: 32px;\n",
              "  }\n",
              "\n",
              "  .colab-df-quickchart:hover {\n",
              "    background-color: var(--hover-bg-color);\n",
              "    box-shadow: 0 1px 2px rgba(60, 64, 67, 0.3), 0 1px 3px 1px rgba(60, 64, 67, 0.15);\n",
              "    fill: var(--button-hover-fill-color);\n",
              "  }\n",
              "\n",
              "  .colab-df-quickchart-complete:disabled,\n",
              "  .colab-df-quickchart-complete:disabled:hover {\n",
              "    background-color: var(--disabled-bg-color);\n",
              "    fill: var(--disabled-fill-color);\n",
              "    box-shadow: none;\n",
              "  }\n",
              "\n",
              "  .colab-df-spinner {\n",
              "    border: 2px solid var(--fill-color);\n",
              "    border-color: transparent;\n",
              "    border-bottom-color: var(--fill-color);\n",
              "    animation:\n",
              "      spin 1s steps(1) infinite;\n",
              "  }\n",
              "\n",
              "  @keyframes spin {\n",
              "    0% {\n",
              "      border-color: transparent;\n",
              "      border-bottom-color: var(--fill-color);\n",
              "      border-left-color: var(--fill-color);\n",
              "    }\n",
              "    20% {\n",
              "      border-color: transparent;\n",
              "      border-left-color: var(--fill-color);\n",
              "      border-top-color: var(--fill-color);\n",
              "    }\n",
              "    30% {\n",
              "      border-color: transparent;\n",
              "      border-left-color: var(--fill-color);\n",
              "      border-top-color: var(--fill-color);\n",
              "      border-right-color: var(--fill-color);\n",
              "    }\n",
              "    40% {\n",
              "      border-color: transparent;\n",
              "      border-right-color: var(--fill-color);\n",
              "      border-top-color: var(--fill-color);\n",
              "    }\n",
              "    60% {\n",
              "      border-color: transparent;\n",
              "      border-right-color: var(--fill-color);\n",
              "    }\n",
              "    80% {\n",
              "      border-color: transparent;\n",
              "      border-right-color: var(--fill-color);\n",
              "      border-bottom-color: var(--fill-color);\n",
              "    }\n",
              "    90% {\n",
              "      border-color: transparent;\n",
              "      border-bottom-color: var(--fill-color);\n",
              "    }\n",
              "  }\n",
              "</style>\n",
              "\n",
              "  <script>\n",
              "    async function quickchart(key) {\n",
              "      const quickchartButtonEl =\n",
              "        document.querySelector('#' + key + ' button');\n",
              "      quickchartButtonEl.disabled = true;  // To prevent multiple clicks.\n",
              "      quickchartButtonEl.classList.add('colab-df-spinner');\n",
              "      try {\n",
              "        const charts = await google.colab.kernel.invokeFunction(\n",
              "            'suggestCharts', [key], {});\n",
              "      } catch (error) {\n",
              "        console.error('Error during call to suggestCharts:', error);\n",
              "      }\n",
              "      quickchartButtonEl.classList.remove('colab-df-spinner');\n",
              "      quickchartButtonEl.classList.add('colab-df-quickchart-complete');\n",
              "    }\n",
              "    (() => {\n",
              "      let quickchartButtonEl =\n",
              "        document.querySelector('#df-26ceced5-01a6-4b45-bad3-1a284122c9bc button');\n",
              "      quickchartButtonEl.style.display =\n",
              "        google.colab.kernel.accessAllowed ? 'block' : 'none';\n",
              "    })();\n",
              "  </script>\n",
              "</div>\n",
              "\n",
              "    </div>\n",
              "  </div>\n"
            ],
            "application/vnd.google.colaboratory.intrinsic+json": {
              "type": "dataframe",
              "summary": "{\n  \"name\": \"enews\",\n  \"rows\": 5,\n  \"fields\": [\n    {\n      \"column\": \"user_id\",\n      \"properties\": {\n        \"dtype\": \"number\",\n        \"std\": 36,\n        \"min\": 546446,\n        \"max\": 546544,\n        \"num_unique_values\": 5,\n        \"samples\": [\n          546544,\n          546483,\n          546472\n        ],\n        \"semantic_type\": \"\",\n        \"description\": \"\"\n      }\n    },\n    {\n      \"column\": \"group\",\n      \"properties\": {\n        \"dtype\": \"category\",\n        \"num_unique_values\": 2,\n        \"samples\": [\n          \"control\",\n          \"treatment\"\n        ],\n        \"semantic_type\": \"\",\n        \"description\": \"\"\n      }\n    },\n    {\n      \"column\": \"landing_page\",\n      \"properties\": {\n        \"dtype\": \"category\",\n        \"num_unique_values\": 2,\n        \"samples\": [\n          \"old\",\n          \"new\"\n        ],\n        \"semantic_type\": \"\",\n        \"description\": \"\"\n      }\n    },\n    {\n      \"column\": \"time_spent_on_the_page\",\n      \"properties\": {\n        \"dtype\": \"number\",\n        \"std\": 0.7192704637339141,\n        \"min\": 5.15,\n        \"max\": 7.07,\n        \"num_unique_values\": 5,\n        \"samples\": [\n          6.52,\n          5.86\n        ],\n        \"semantic_type\": \"\",\n        \"description\": \"\"\n      }\n    },\n    {\n      \"column\": \"converted\",\n      \"properties\": {\n        \"dtype\": \"category\",\n        \"num_unique_values\": 2,\n        \"samples\": [\n          \"yes\",\n          \"no\"\n        ],\n        \"semantic_type\": \"\",\n        \"description\": \"\"\n      }\n    },\n    {\n      \"column\": \"language_preferred\",\n      \"properties\": {\n        \"dtype\": \"category\",\n        \"num_unique_values\": 2,\n        \"samples\": [\n          \"English\",\n          \"Spanish\"\n        ],\n        \"semantic_type\": \"\",\n        \"description\": \"\"\n      }\n    }\n  ]\n}"
            }
          },
          "metadata": {},
          "execution_count": 60
        }
      ]
    },
    {
      "cell_type": "code",
      "source": [
        "#check shape of enews data (rows, columns)\n",
        "print('There are', enews.shape[0], 'columns and', enews.shape[1],'rows in the data set.')"
      ],
      "metadata": {
        "colab": {
          "base_uri": "https://localhost:8080/"
        },
        "id": "f5lbY7-guYce",
        "outputId": "c2a8ae31-138e-45eb-a0c3-5b96ef3b2746"
      },
      "id": "f5lbY7-guYce",
      "execution_count": null,
      "outputs": [
        {
          "output_type": "stream",
          "name": "stdout",
          "text": [
            "There are 100 columns and 6 rows in the data set.\n"
          ]
        }
      ]
    },
    {
      "cell_type": "code",
      "source": [
        "#identify types for the different categories of the enews data\n",
        "enews.info()"
      ],
      "metadata": {
        "colab": {
          "base_uri": "https://localhost:8080/"
        },
        "id": "pwVFRDVbu2nH",
        "outputId": "af6135b7-5d21-4523-f78e-b79823c22511"
      },
      "id": "pwVFRDVbu2nH",
      "execution_count": null,
      "outputs": [
        {
          "output_type": "stream",
          "name": "stdout",
          "text": [
            "<class 'pandas.core.frame.DataFrame'>\n",
            "RangeIndex: 100 entries, 0 to 99\n",
            "Data columns (total 6 columns):\n",
            " #   Column                  Non-Null Count  Dtype  \n",
            "---  ------                  --------------  -----  \n",
            " 0   user_id                 100 non-null    int64  \n",
            " 1   group                   100 non-null    object \n",
            " 2   landing_page            100 non-null    object \n",
            " 3   time_spent_on_the_page  100 non-null    float64\n",
            " 4   converted               100 non-null    object \n",
            " 5   language_preferred      100 non-null    object \n",
            "dtypes: float64(1), int64(1), object(4)\n",
            "memory usage: 4.8+ KB\n"
          ]
        }
      ]
    },
    {
      "cell_type": "code",
      "source": [
        "#apply .describe() to the numerical values of the dataset: user id & time spent\n",
        "#we will not analyze user id statistics due to uniqueness\n",
        "enews.describe().T"
      ],
      "metadata": {
        "colab": {
          "base_uri": "https://localhost:8080/",
          "height": 112
        },
        "id": "ydc8zqWtvLRe",
        "outputId": "90749a6a-fdcd-47d1-d56c-53ac2dade996"
      },
      "id": "ydc8zqWtvLRe",
      "execution_count": null,
      "outputs": [
        {
          "output_type": "execute_result",
          "data": {
            "text/plain": [
              "                        count         mean        std        min        25%  \\\n",
              "user_id                 100.0  546517.0000  52.295779  546443.00  546467.75   \n",
              "time_spent_on_the_page  100.0       5.3778   2.378166       0.19       3.88   \n",
              "\n",
              "                               50%          75%        max  \n",
              "user_id                 546492.500  546567.2500  546592.00  \n",
              "time_spent_on_the_page       5.415       7.0225      10.71  "
            ],
            "text/html": [
              "\n",
              "  <div id=\"df-7a3e7e1b-a86d-43c0-bb94-734ef9368135\" class=\"colab-df-container\">\n",
              "    <div>\n",
              "<style scoped>\n",
              "    .dataframe tbody tr th:only-of-type {\n",
              "        vertical-align: middle;\n",
              "    }\n",
              "\n",
              "    .dataframe tbody tr th {\n",
              "        vertical-align: top;\n",
              "    }\n",
              "\n",
              "    .dataframe thead th {\n",
              "        text-align: right;\n",
              "    }\n",
              "</style>\n",
              "<table border=\"1\" class=\"dataframe\">\n",
              "  <thead>\n",
              "    <tr style=\"text-align: right;\">\n",
              "      <th></th>\n",
              "      <th>count</th>\n",
              "      <th>mean</th>\n",
              "      <th>std</th>\n",
              "      <th>min</th>\n",
              "      <th>25%</th>\n",
              "      <th>50%</th>\n",
              "      <th>75%</th>\n",
              "      <th>max</th>\n",
              "    </tr>\n",
              "  </thead>\n",
              "  <tbody>\n",
              "    <tr>\n",
              "      <th>user_id</th>\n",
              "      <td>100.0</td>\n",
              "      <td>546517.0000</td>\n",
              "      <td>52.295779</td>\n",
              "      <td>546443.00</td>\n",
              "      <td>546467.75</td>\n",
              "      <td>546492.500</td>\n",
              "      <td>546567.2500</td>\n",
              "      <td>546592.00</td>\n",
              "    </tr>\n",
              "    <tr>\n",
              "      <th>time_spent_on_the_page</th>\n",
              "      <td>100.0</td>\n",
              "      <td>5.3778</td>\n",
              "      <td>2.378166</td>\n",
              "      <td>0.19</td>\n",
              "      <td>3.88</td>\n",
              "      <td>5.415</td>\n",
              "      <td>7.0225</td>\n",
              "      <td>10.71</td>\n",
              "    </tr>\n",
              "  </tbody>\n",
              "</table>\n",
              "</div>\n",
              "    <div class=\"colab-df-buttons\">\n",
              "\n",
              "  <div class=\"colab-df-container\">\n",
              "    <button class=\"colab-df-convert\" onclick=\"convertToInteractive('df-7a3e7e1b-a86d-43c0-bb94-734ef9368135')\"\n",
              "            title=\"Convert this dataframe to an interactive table.\"\n",
              "            style=\"display:none;\">\n",
              "\n",
              "  <svg xmlns=\"http://www.w3.org/2000/svg\" height=\"24px\" viewBox=\"0 -960 960 960\">\n",
              "    <path d=\"M120-120v-720h720v720H120Zm60-500h600v-160H180v160Zm220 220h160v-160H400v160Zm0 220h160v-160H400v160ZM180-400h160v-160H180v160Zm440 0h160v-160H620v160ZM180-180h160v-160H180v160Zm440 0h160v-160H620v160Z\"/>\n",
              "  </svg>\n",
              "    </button>\n",
              "\n",
              "  <style>\n",
              "    .colab-df-container {\n",
              "      display:flex;\n",
              "      gap: 12px;\n",
              "    }\n",
              "\n",
              "    .colab-df-convert {\n",
              "      background-color: #E8F0FE;\n",
              "      border: none;\n",
              "      border-radius: 50%;\n",
              "      cursor: pointer;\n",
              "      display: none;\n",
              "      fill: #1967D2;\n",
              "      height: 32px;\n",
              "      padding: 0 0 0 0;\n",
              "      width: 32px;\n",
              "    }\n",
              "\n",
              "    .colab-df-convert:hover {\n",
              "      background-color: #E2EBFA;\n",
              "      box-shadow: 0px 1px 2px rgba(60, 64, 67, 0.3), 0px 1px 3px 1px rgba(60, 64, 67, 0.15);\n",
              "      fill: #174EA6;\n",
              "    }\n",
              "\n",
              "    .colab-df-buttons div {\n",
              "      margin-bottom: 4px;\n",
              "    }\n",
              "\n",
              "    [theme=dark] .colab-df-convert {\n",
              "      background-color: #3B4455;\n",
              "      fill: #D2E3FC;\n",
              "    }\n",
              "\n",
              "    [theme=dark] .colab-df-convert:hover {\n",
              "      background-color: #434B5C;\n",
              "      box-shadow: 0px 1px 3px 1px rgba(0, 0, 0, 0.15);\n",
              "      filter: drop-shadow(0px 1px 2px rgba(0, 0, 0, 0.3));\n",
              "      fill: #FFFFFF;\n",
              "    }\n",
              "  </style>\n",
              "\n",
              "    <script>\n",
              "      const buttonEl =\n",
              "        document.querySelector('#df-7a3e7e1b-a86d-43c0-bb94-734ef9368135 button.colab-df-convert');\n",
              "      buttonEl.style.display =\n",
              "        google.colab.kernel.accessAllowed ? 'block' : 'none';\n",
              "\n",
              "      async function convertToInteractive(key) {\n",
              "        const element = document.querySelector('#df-7a3e7e1b-a86d-43c0-bb94-734ef9368135');\n",
              "        const dataTable =\n",
              "          await google.colab.kernel.invokeFunction('convertToInteractive',\n",
              "                                                    [key], {});\n",
              "        if (!dataTable) return;\n",
              "\n",
              "        const docLinkHtml = 'Like what you see? Visit the ' +\n",
              "          '<a target=\"_blank\" href=https://colab.research.google.com/notebooks/data_table.ipynb>data table notebook</a>'\n",
              "          + ' to learn more about interactive tables.';\n",
              "        element.innerHTML = '';\n",
              "        dataTable['output_type'] = 'display_data';\n",
              "        await google.colab.output.renderOutput(dataTable, element);\n",
              "        const docLink = document.createElement('div');\n",
              "        docLink.innerHTML = docLinkHtml;\n",
              "        element.appendChild(docLink);\n",
              "      }\n",
              "    </script>\n",
              "  </div>\n",
              "\n",
              "\n",
              "<div id=\"df-7aab0ec4-b748-4e69-bd42-0e9ae1754f77\">\n",
              "  <button class=\"colab-df-quickchart\" onclick=\"quickchart('df-7aab0ec4-b748-4e69-bd42-0e9ae1754f77')\"\n",
              "            title=\"Suggest charts\"\n",
              "            style=\"display:none;\">\n",
              "\n",
              "<svg xmlns=\"http://www.w3.org/2000/svg\" height=\"24px\"viewBox=\"0 0 24 24\"\n",
              "     width=\"24px\">\n",
              "    <g>\n",
              "        <path d=\"M19 3H5c-1.1 0-2 .9-2 2v14c0 1.1.9 2 2 2h14c1.1 0 2-.9 2-2V5c0-1.1-.9-2-2-2zM9 17H7v-7h2v7zm4 0h-2V7h2v10zm4 0h-2v-4h2v4z\"/>\n",
              "    </g>\n",
              "</svg>\n",
              "  </button>\n",
              "\n",
              "<style>\n",
              "  .colab-df-quickchart {\n",
              "      --bg-color: #E8F0FE;\n",
              "      --fill-color: #1967D2;\n",
              "      --hover-bg-color: #E2EBFA;\n",
              "      --hover-fill-color: #174EA6;\n",
              "      --disabled-fill-color: #AAA;\n",
              "      --disabled-bg-color: #DDD;\n",
              "  }\n",
              "\n",
              "  [theme=dark] .colab-df-quickchart {\n",
              "      --bg-color: #3B4455;\n",
              "      --fill-color: #D2E3FC;\n",
              "      --hover-bg-color: #434B5C;\n",
              "      --hover-fill-color: #FFFFFF;\n",
              "      --disabled-bg-color: #3B4455;\n",
              "      --disabled-fill-color: #666;\n",
              "  }\n",
              "\n",
              "  .colab-df-quickchart {\n",
              "    background-color: var(--bg-color);\n",
              "    border: none;\n",
              "    border-radius: 50%;\n",
              "    cursor: pointer;\n",
              "    display: none;\n",
              "    fill: var(--fill-color);\n",
              "    height: 32px;\n",
              "    padding: 0;\n",
              "    width: 32px;\n",
              "  }\n",
              "\n",
              "  .colab-df-quickchart:hover {\n",
              "    background-color: var(--hover-bg-color);\n",
              "    box-shadow: 0 1px 2px rgba(60, 64, 67, 0.3), 0 1px 3px 1px rgba(60, 64, 67, 0.15);\n",
              "    fill: var(--button-hover-fill-color);\n",
              "  }\n",
              "\n",
              "  .colab-df-quickchart-complete:disabled,\n",
              "  .colab-df-quickchart-complete:disabled:hover {\n",
              "    background-color: var(--disabled-bg-color);\n",
              "    fill: var(--disabled-fill-color);\n",
              "    box-shadow: none;\n",
              "  }\n",
              "\n",
              "  .colab-df-spinner {\n",
              "    border: 2px solid var(--fill-color);\n",
              "    border-color: transparent;\n",
              "    border-bottom-color: var(--fill-color);\n",
              "    animation:\n",
              "      spin 1s steps(1) infinite;\n",
              "  }\n",
              "\n",
              "  @keyframes spin {\n",
              "    0% {\n",
              "      border-color: transparent;\n",
              "      border-bottom-color: var(--fill-color);\n",
              "      border-left-color: var(--fill-color);\n",
              "    }\n",
              "    20% {\n",
              "      border-color: transparent;\n",
              "      border-left-color: var(--fill-color);\n",
              "      border-top-color: var(--fill-color);\n",
              "    }\n",
              "    30% {\n",
              "      border-color: transparent;\n",
              "      border-left-color: var(--fill-color);\n",
              "      border-top-color: var(--fill-color);\n",
              "      border-right-color: var(--fill-color);\n",
              "    }\n",
              "    40% {\n",
              "      border-color: transparent;\n",
              "      border-right-color: var(--fill-color);\n",
              "      border-top-color: var(--fill-color);\n",
              "    }\n",
              "    60% {\n",
              "      border-color: transparent;\n",
              "      border-right-color: var(--fill-color);\n",
              "    }\n",
              "    80% {\n",
              "      border-color: transparent;\n",
              "      border-right-color: var(--fill-color);\n",
              "      border-bottom-color: var(--fill-color);\n",
              "    }\n",
              "    90% {\n",
              "      border-color: transparent;\n",
              "      border-bottom-color: var(--fill-color);\n",
              "    }\n",
              "  }\n",
              "</style>\n",
              "\n",
              "  <script>\n",
              "    async function quickchart(key) {\n",
              "      const quickchartButtonEl =\n",
              "        document.querySelector('#' + key + ' button');\n",
              "      quickchartButtonEl.disabled = true;  // To prevent multiple clicks.\n",
              "      quickchartButtonEl.classList.add('colab-df-spinner');\n",
              "      try {\n",
              "        const charts = await google.colab.kernel.invokeFunction(\n",
              "            'suggestCharts', [key], {});\n",
              "      } catch (error) {\n",
              "        console.error('Error during call to suggestCharts:', error);\n",
              "      }\n",
              "      quickchartButtonEl.classList.remove('colab-df-spinner');\n",
              "      quickchartButtonEl.classList.add('colab-df-quickchart-complete');\n",
              "    }\n",
              "    (() => {\n",
              "      let quickchartButtonEl =\n",
              "        document.querySelector('#df-7aab0ec4-b748-4e69-bd42-0e9ae1754f77 button');\n",
              "      quickchartButtonEl.style.display =\n",
              "        google.colab.kernel.accessAllowed ? 'block' : 'none';\n",
              "    })();\n",
              "  </script>\n",
              "</div>\n",
              "\n",
              "    </div>\n",
              "  </div>\n"
            ],
            "application/vnd.google.colaboratory.intrinsic+json": {
              "type": "dataframe",
              "summary": "{\n  \"name\": \"enews\",\n  \"rows\": 2,\n  \"fields\": [\n    {\n      \"column\": \"count\",\n      \"properties\": {\n        \"dtype\": \"number\",\n        \"std\": 0.0,\n        \"min\": 100.0,\n        \"max\": 100.0,\n        \"num_unique_values\": 1,\n        \"samples\": [\n          100.0\n        ],\n        \"semantic_type\": \"\",\n        \"description\": \"\"\n      }\n    },\n    {\n      \"column\": \"mean\",\n      \"properties\": {\n        \"dtype\": \"number\",\n        \"std\": 386442.07405488053,\n        \"min\": 5.377800000000001,\n        \"max\": 546517.0,\n        \"num_unique_values\": 2,\n        \"samples\": [\n          5.377800000000001\n        ],\n        \"semantic_type\": \"\",\n        \"description\": \"\"\n      }\n    },\n    {\n      \"column\": \"std\",\n      \"properties\": {\n        \"dtype\": \"number\",\n        \"std\": 35.29708248647065,\n        \"min\": 2.378166078933492,\n        \"max\": 52.29577884350213,\n        \"num_unique_values\": 2,\n        \"samples\": [\n          2.378166078933492\n        ],\n        \"semantic_type\": \"\",\n        \"description\": \"\"\n      }\n    },\n    {\n      \"column\": \"min\",\n      \"properties\": {\n        \"dtype\": \"number\",\n        \"std\": 386393.41648163216,\n        \"min\": 0.19,\n        \"max\": 546443.0,\n        \"num_unique_values\": 2,\n        \"samples\": [\n          0.19\n        ],\n        \"semantic_type\": \"\",\n        \"description\": \"\"\n      }\n    },\n    {\n      \"column\": \"25%\",\n      \"properties\": {\n        \"dtype\": \"number\",\n        \"std\": 386408.30815044395,\n        \"min\": 3.88,\n        \"max\": 546467.75,\n        \"num_unique_values\": 2,\n        \"samples\": [\n          3.88\n        ],\n        \"semantic_type\": \"\",\n        \"description\": \"\"\n      }\n    },\n    {\n      \"column\": \"50%\",\n      \"properties\": {\n        \"dtype\": \"number\",\n        \"std\": 386424.7236343692,\n        \"min\": 5.415,\n        \"max\": 546492.5,\n        \"num_unique_values\": 2,\n        \"samples\": [\n          5.415\n        ],\n        \"semantic_type\": \"\",\n        \"description\": \"\"\n      }\n    },\n    {\n      \"column\": \"75%\",\n      \"properties\": {\n        \"dtype\": \"number\",\n        \"std\": 386476.44319211214,\n        \"min\": 7.0225,\n        \"max\": 546567.25,\n        \"num_unique_values\": 2,\n        \"samples\": [\n          7.0225\n        ],\n        \"semantic_type\": \"\",\n        \"description\": \"\"\n      }\n    },\n    {\n      \"column\": \"max\",\n      \"properties\": {\n        \"dtype\": \"number\",\n        \"std\": 386491.3366286909,\n        \"min\": 10.71,\n        \"max\": 546592.0,\n        \"num_unique_values\": 2,\n        \"samples\": [\n          10.71\n        ],\n        \"semantic_type\": \"\",\n        \"description\": \"\"\n      }\n    }\n  ]\n}"
            }
          },
          "metadata": {},
          "execution_count": 63
        }
      ]
    },
    {
      "cell_type": "code",
      "source": [
        "#check for missing values\n",
        "#unlikely due to information granted in enews.info() ; line 6\n",
        "enews.isnull().sum()"
      ],
      "metadata": {
        "colab": {
          "base_uri": "https://localhost:8080/"
        },
        "id": "nBUWChJwv1HY",
        "outputId": "821389c8-6a3e-479c-8e9d-f3bd90f73cb8"
      },
      "id": "nBUWChJwv1HY",
      "execution_count": null,
      "outputs": [
        {
          "output_type": "execute_result",
          "data": {
            "text/plain": [
              "user_id                   0\n",
              "group                     0\n",
              "landing_page              0\n",
              "time_spent_on_the_page    0\n",
              "converted                 0\n",
              "language_preferred        0\n",
              "dtype: int64"
            ]
          },
          "metadata": {},
          "execution_count": 64
        }
      ]
    },
    {
      "cell_type": "code",
      "source": [
        "print('There are no missing values in the data set. All 6 column categories have entires')"
      ],
      "metadata": {
        "colab": {
          "base_uri": "https://localhost:8080/"
        },
        "id": "zQPu6LWQwoOD",
        "outputId": "64562a80-7540-4dd4-90a8-c8b2d35fc508"
      },
      "id": "zQPu6LWQwoOD",
      "execution_count": null,
      "outputs": [
        {
          "output_type": "stream",
          "name": "stdout",
          "text": [
            "There are no missing values in the data set. All 6 column categories have entires\n"
          ]
        }
      ]
    },
    {
      "cell_type": "code",
      "source": [
        "#check for duplicates within enews data\n",
        "#understand the categories within each column\n",
        "print('There are', 100 - enews['user_id'].nunique(), 'duplicated entries for user id in the data set.')\n",
        "print('There are', enews['group'].nunique(), 'categories of groups in the data set. These entries are listed as', enews['group'].unique())\n",
        "print('There are', enews['landing_page'].nunique(), 'categories of landing page in the data set. These entries are listed as', enews['landing_page'].unique())\n",
        "print('There are', enews['converted'].nunique(), 'categories of converted in the data set. These entries are listed as', enews['converted'].unique())\n",
        "print('There are', enews['language_preferred'].nunique(), 'categories of preferred languages in the data set. These entries are listed as', enews['language_preferred'].unique())"
      ],
      "metadata": {
        "colab": {
          "base_uri": "https://localhost:8080/"
        },
        "id": "2ra7HkN7xH1h",
        "outputId": "aacd9b61-8ba1-4e74-a273-85aa24bd3d6c"
      },
      "id": "2ra7HkN7xH1h",
      "execution_count": null,
      "outputs": [
        {
          "output_type": "stream",
          "name": "stdout",
          "text": [
            "There are 0 duplicated entries for user id in the data set.\n",
            "There are 2 categories of groups in the data set. These entries are listed as ['control' 'treatment']\n",
            "There are 2 categories of landing page in the data set. These entries are listed as ['old' 'new']\n",
            "There are 2 categories of converted in the data set. These entries are listed as ['no' 'yes']\n",
            "There are 3 categories of preferred languages in the data set. These entries are listed as ['Spanish' 'English' 'French']\n"
          ]
        }
      ]
    },
    {
      "cell_type": "markdown",
      "metadata": {
        "id": "68f3b2c9"
      },
      "source": [
        "### Univariate Analysis"
      ],
      "id": "68f3b2c9"
    },
    {
      "cell_type": "code",
      "metadata": {
        "id": "1932d0f3",
        "colab": {
          "base_uri": "https://localhost:8080/",
          "height": 883
        },
        "outputId": "d5b2f061-031e-42d5-c145-e54ef2519aa4"
      },
      "source": [
        "#check shape of time spent\n",
        "sns.histplot(enews,x='time_spent_on_the_page')\n",
        "plt.show()\n",
        "sns.boxplot(enews,x='time_spent_on_the_page')\n",
        "plt.show()"
      ],
      "id": "1932d0f3",
      "execution_count": null,
      "outputs": [
        {
          "output_type": "display_data",
          "data": {
            "text/plain": [
              "<Figure size 640x480 with 1 Axes>"
            ],
            "image/png": "[encoded data removed]"
          },
          "metadata": {}
        },
        {
          "output_type": "display_data",
          "data": {
            "text/plain": [
              "<Figure size 640x480 with 1 Axes>"
            ],
            "image/png": "[encoded data removed]"
          },
          "metadata": {}
        }
      ]
    },
    {
      "cell_type": "markdown",
      "source": [
        "Time spent has an average around 5.4 minutes. The medain of the data is close to the mean. This proximity reflects that there is no skew to the data; our analysis is supported by a lack of outliers displayed on the boxplot. Time spent seems to have a normal distribution (bell shaped histogram).\n",
        "- We can further prove this using a Shapiro Test if needed."
      ],
      "metadata": {
        "id": "U4rYPiNioSRT"
      },
      "id": "U4rYPiNioSRT"
    },
    {
      "cell_type": "code",
      "source": [
        "#check counts for group type\n",
        "sns.countplot(enews, x='group')\n",
        "plt.show()"
      ],
      "metadata": {
        "colab": {
          "base_uri": "https://localhost:8080/",
          "height": 449
        },
        "id": "Vd3Q2_N40P5t",
        "outputId": "68bcee47-89b4-4aea-ec2e-725ec87a696f"
      },
      "id": "Vd3Q2_N40P5t",
      "execution_count": null,
      "outputs": [
        {
          "output_type": "display_data",
          "data": {
            "text/plain": [
              "<Figure size 640x480 with 1 Axes>"
            ],
            "image/png": "[encoded data removed]"
          },
          "metadata": {}
        }
      ]
    },
    {
      "cell_type": "markdown",
      "source": [
        "There are equal counts of users listed in the control and treatment groups.\n",
        "Out of 100 data entries, 50% belong to each category."
      ],
      "metadata": {
        "id": "TfIoDZKNo_-d"
      },
      "id": "TfIoDZKNo_-d"
    },
    {
      "cell_type": "code",
      "source": [
        "#create countplot for langing page types\n",
        "sns.countplot(data=enews, x='landing_page')\n",
        "plt.show()"
      ],
      "metadata": {
        "colab": {
          "base_uri": "https://localhost:8080/",
          "height": 450
        },
        "id": "UwDftIMl3Bvq",
        "outputId": "288c8c6c-e601-42b0-c928-3ea199d14a46"
      },
      "id": "UwDftIMl3Bvq",
      "execution_count": null,
      "outputs": [
        {
          "output_type": "display_data",
          "data": {
            "text/plain": [
              "<Figure size 640x480 with 1 Axes>"
            ],
            "image/png": "[encoded data removed]"
          },
          "metadata": {}
        }
      ]
    },
    {
      "cell_type": "markdown",
      "source": [
        "The countplots for 'Group' and 'Landing Page' are identitical. The data set is designed such that the Control Group received the Old landing Page (50 users) and the Treatment Group received the new Landing Page (50 users)."
      ],
      "metadata": {
        "id": "prvVnuRD4x7T"
      },
      "id": "prvVnuRD4x7T"
    },
    {
      "cell_type": "code",
      "source": [
        "#create countplot for preferred language\n",
        "sns.countplot(data=enews, x='language_preferred')\n",
        "plt.show()"
      ],
      "metadata": {
        "colab": {
          "base_uri": "https://localhost:8080/",
          "height": 450
        },
        "id": "_d6VHyBb3Rsa",
        "outputId": "e368e3e5-7d10-4ff6-cc55-9df0aa4f998d"
      },
      "id": "_d6VHyBb3Rsa",
      "execution_count": null,
      "outputs": [
        {
          "output_type": "display_data",
          "data": {
            "text/plain": [
              "<Figure size 640x480 with 1 Axes>"
            ],
            "image/png": "[encoded data removed]"
          },
          "metadata": {}
        }
      ]
    },
    {
      "cell_type": "markdown",
      "source": [
        "Of the three language categories, Spanish and French had number of equal users, whereas English had the least."
      ],
      "metadata": {
        "id": "ZGXacV8hpSSJ"
      },
      "id": "ZGXacV8hpSSJ"
    },
    {
      "cell_type": "code",
      "source": [
        "#create countplot for converted\n",
        "sns.countplot(data=enews, x='converted')\n",
        "plt.show()"
      ],
      "metadata": {
        "colab": {
          "base_uri": "https://localhost:8080/",
          "height": 449
        },
        "id": "tm4RWDTZ3_1N",
        "outputId": "f2d6a188-bb62-4f09-d1c9-62e8336c750e"
      },
      "id": "tm4RWDTZ3_1N",
      "execution_count": null,
      "outputs": [
        {
          "output_type": "display_data",
          "data": {
            "text/plain": [
              "<Figure size 640x480 with 1 Axes>"
            ],
            "image/png": "[encoded data removed]"
          },
          "metadata": {}
        }
      ]
    },
    {
      "cell_type": "markdown",
      "source": [
        "More than half of the total users converted. It will be worth investigating whichh landing page / treatment group the converted users stemmed from. The fact that >50% of the users converted is promising for the company."
      ],
      "metadata": {
        "id": "7iKf0XkNpo9I"
      },
      "id": "7iKf0XkNpo9I"
    },
    {
      "cell_type": "markdown",
      "metadata": {
        "id": "fad2de2f"
      },
      "source": [
        "### Bivariate Analysis"
      ],
      "id": "fad2de2f"
    },
    {
      "cell_type": "code",
      "metadata": {
        "id": "58e9a1d0",
        "colab": {
          "base_uri": "https://localhost:8080/",
          "height": 449
        },
        "outputId": "1a1129a7-2283-4f3f-e87e-740afd03b5c0"
      },
      "source": [
        "#Ensure Group and Landing Page Relationship.\n",
        "sns.countplot(data=enews, x='group', hue='landing_page')\n",
        "plt.show()"
      ],
      "id": "58e9a1d0",
      "execution_count": null,
      "outputs": [
        {
          "output_type": "display_data",
          "data": {
            "text/plain": [
              "<Figure size 640x480 with 1 Axes>"
            ],
            "image/png": "[encoded data removed]"
          },
          "metadata": {}
        }
      ]
    },
    {
      "cell_type": "markdown",
      "source": [
        "Our assumptions were correct. The control group received the old landing page while the treatment group received the new landing page. These two columns in the data are not indepdent of each other. We can assume that the Control Group carries the same users as those that received the Old Landing Page; the Treatment group  carries the same users as those that received the New Landing Page."
      ],
      "metadata": {
        "id": "u_-x69tB5rB5"
      },
      "id": "u_-x69tB5rB5"
    },
    {
      "cell_type": "code",
      "source": [
        "#compare landing pages and time spent\n",
        "sns.boxplot(data=enews, x='time_spent_on_the_page', y='landing_page')"
      ],
      "metadata": {
        "colab": {
          "base_uri": "https://localhost:8080/",
          "height": 467
        },
        "id": "1NItdbL359PA",
        "outputId": "fa4e87c3-bb7b-45f6-bbfa-245a4b2719c8"
      },
      "id": "1NItdbL359PA",
      "execution_count": null,
      "outputs": [
        {
          "output_type": "execute_result",
          "data": {
            "text/plain": [
              "<Axes: xlabel='time_spent_on_the_page', ylabel='landing_page'>"
            ]
          },
          "metadata": {},
          "execution_count": 73
        },
        {
          "output_type": "display_data",
          "data": {
            "text/plain": [
              "<Figure size 640x480 with 1 Axes>"
            ],
            "image/png": "[encoded data removed]"
          },
          "metadata": {}
        }
      ]
    },
    {
      "cell_type": "markdown",
      "source": [
        "Time spent on the old landing page has higher variability and lower median, whereas time spent on the new landing page has less variability and higher median. The new landing page has 3 outlier values; three users spent significantly less/more time on the landing page compared to the majority of the Treatment Group.\n",
        "It is worth investigating if the visual displays statistically significant evidence of the relationship between Landing Page type and Time Spent."
      ],
      "metadata": {
        "id": "KS348qu960eh"
      },
      "id": "KS348qu960eh"
    },
    {
      "cell_type": "code",
      "source": [
        "#compare languages and time spent\n",
        "sns.boxplot(data=enews, x='time_spent_on_the_page', y='language_preferred')\n",
        "plt.show()"
      ],
      "metadata": {
        "colab": {
          "base_uri": "https://localhost:8080/",
          "height": 450
        },
        "id": "WOxG5Wb07lGQ",
        "outputId": "9305850e-9d89-4f96-ac4e-3d28d3c8c3aa"
      },
      "id": "WOxG5Wb07lGQ",
      "execution_count": null,
      "outputs": [
        {
          "output_type": "display_data",
          "data": {
            "text/plain": [
              "<Figure size 640x480 with 1 Axes>"
            ],
            "image/png": "[encoded data removed]"
          },
          "metadata": {}
        }
      ]
    },
    {
      "cell_type": "markdown",
      "source": [
        "The measures of center are relatively close for all languages. We may need to investigate the means of these groups using an ANOVA test to better understand if the visual difference is significant to the groups or due to the differences in variability (spread) of each category."
      ],
      "metadata": {
        "id": "LZIArkWS7wse"
      },
      "id": "LZIArkWS7wse"
    },
    {
      "cell_type": "code",
      "source": [
        "#compare the converted counts to language\n",
        "sns.countplot(data=enews, x='language_preferred', hue='converted')\n",
        "plt.show()"
      ],
      "metadata": {
        "colab": {
          "base_uri": "https://localhost:8080/",
          "height": 450
        },
        "id": "TzR-gSvO8Sju",
        "outputId": "572d738d-40d1-4290-90f2-0f06e927f7a4"
      },
      "id": "TzR-gSvO8Sju",
      "execution_count": null,
      "outputs": [
        {
          "output_type": "display_data",
          "data": {
            "text/plain": [
              "<Figure size 640x480 with 1 Axes>"
            ],
            "image/png": "[encoded data removed]"
          },
          "metadata": {}
        }
      ]
    },
    {
      "cell_type": "markdown",
      "source": [
        "The plot shows that English-speaking users have highest converted count, whereas French users have lowest converted count. It is recommended to investigate if converted users have any dependence on preferred language (Chi-Square Test)."
      ],
      "metadata": {
        "id": "2nO98lhq8nh-"
      },
      "id": "2nO98lhq8nh-"
    },
    {
      "cell_type": "markdown",
      "metadata": {
        "id": "27906576"
      },
      "source": [
        "## 1. Do the users spend more time on the new landing page than the existing landing page?"
      ],
      "id": "27906576"
    },
    {
      "cell_type": "markdown",
      "metadata": {
        "id": "e5fdf0c8"
      },
      "source": [
        "### Perform Visual Analysis"
      ],
      "id": "e5fdf0c8"
    },
    {
      "cell_type": "code",
      "metadata": {
        "id": "6eZJa41eg21n",
        "colab": {
          "base_uri": "https://localhost:8080/",
          "height": 927
        },
        "outputId": "e19a6efc-5b48-4838-9aa1-150d296d9167"
      },
      "source": [
        "#compare landing pages and time spent\n",
        "sns.histplot(data=enews[enews['landing_page']=='old'], x='time_spent_on_the_page', kde=True).set(title='Time on Old Landing Pg')\n",
        "plt.show()\n",
        "sns.histplot(data=enews[enews['landing_page']=='new'], x='time_spent_on_the_page', kde=True).set(title='Time on New Landing Pg')\n",
        "plt.show()"
      ],
      "id": "6eZJa41eg21n",
      "execution_count": null,
      "outputs": [
        {
          "output_type": "display_data",
          "data": {
            "text/plain": [
              "<Figure size 640x480 with 1 Axes>"
            ],
            "image/png": "[encoded data removed]"
          },
          "metadata": {}
        },
        {
          "output_type": "display_data",
          "data": {
            "text/plain": [
              "<Figure size 640x480 with 1 Axes>"
            ],
            "image/png": "[encoded data removed]"
          },
          "metadata": {}
        }
      ]
    },
    {
      "cell_type": "markdown",
      "source": [
        "As seen in the bivariate analysis:\n",
        "- The time spent on the Old Landing page is skewed right. the center of the data is around 4 minutes. This represents less time being spent on the old landing page.\n",
        "- The time spent on the New Landing page is skewed left. The center of the data is around 6 minutes. This represents more time bieng spent on the New Landing page.\n",
        "\n",
        "We will complete a statistical test to check if the company can trust this relationship as they makie further desicions while designing their platform."
      ],
      "metadata": {
        "id": "4tAUey6ZsXb-"
      },
      "id": "4tAUey6ZsXb-"
    },
    {
      "cell_type": "markdown",
      "metadata": {
        "id": "56b3dafd"
      },
      "source": [
        "### Step 1: Define the null and alternate hypotheses"
      ],
      "id": "56b3dafd"
    },
    {
      "cell_type": "markdown",
      "metadata": {
        "id": "d2ac77ef"
      },
      "source": [
        "## Null Hypothesis: the means of time spent on new landing page and old landing page are equivalent.\n",
        "## Alternative Hypothesis: the mean time spent on the Old landing page is LESS than the mean time spent on the New landing page (one-sided)."
      ],
      "id": "d2ac77ef"
    },
    {
      "cell_type": "markdown",
      "metadata": {
        "id": "c7ee4907"
      },
      "source": [
        "### Step 2: Select Appropriate test"
      ],
      "id": "c7ee4907"
    },
    {
      "cell_type": "markdown",
      "metadata": {
        "id": "2c183cd7"
      },
      "source": [
        "Because we will be comparing two sample means without knowing the population standard deviation, we will be using a 2 Sample Independent T-Test. It is important to note that we need to check the Standard Deviations of the two samples for equivalence to accurately complete the statistical test."
      ],
      "id": "2c183cd7"
    },
    {
      "cell_type": "markdown",
      "metadata": {
        "id": "3f58c9a7"
      },
      "source": [
        "### Step 3: Decide the significance level"
      ],
      "id": "3f58c9a7"
    },
    {
      "cell_type": "markdown",
      "metadata": {
        "id": "92d7d7ee"
      },
      "source": [
        "As usual, the significance level will be alpha = 0.05"
      ],
      "id": "92d7d7ee"
    },
    {
      "cell_type": "markdown",
      "metadata": {
        "id": "5fed2eac"
      },
      "source": [
        "### Step 4: Collect and prepare data"
      ],
      "id": "5fed2eac"
    },
    {
      "cell_type": "code",
      "metadata": {
        "id": "f5a59495",
        "colab": {
          "base_uri": "https://localhost:8080/"
        },
        "outputId": "b78fa4db-ac28-4cb3-b78d-0b3459117b8a"
      },
      "source": [
        "#calculate the standard deviation of time spent on old and new page. Check if the standard deviations are equal or not.\n",
        "old_times = enews[enews['landing_page']=='old']['time_spent_on_the_page']\n",
        "new_times = enews[enews['landing_page']=='new']['time_spent_on_the_page']\n",
        "\n",
        "old_std = round(old_times.std(), 3)\n",
        "new_std = round(new_times.std(), 3)\n",
        "\n",
        "#check if standard deviations are equal or not to make assumptions about population standard deviations and prepare for test\n",
        "if old_std == new_std:\n",
        "  print('We can assume the population standard deviations are equal. We will apply equal_var = True in our statistical test.')\n",
        "else:\n",
        "  print('We cannot assume the population standard deviations are equal. We will apply equal_var = False in our statistical test.')"
      ],
      "id": "f5a59495",
      "execution_count": null,
      "outputs": [
        {
          "output_type": "stream",
          "name": "stdout",
          "text": [
            "We cannot assume the population standard deviations are equal. We will apply equal_var = False in our statistical test.\n"
          ]
        }
      ]
    },
    {
      "cell_type": "markdown",
      "metadata": {
        "id": "f5c5258d"
      },
      "source": [
        "### Step 5: Calculate the p-value"
      ],
      "id": "f5c5258d"
    },
    {
      "cell_type": "code",
      "metadata": {
        "id": "fac8594a",
        "colab": {
          "base_uri": "https://localhost:8080/"
        },
        "outputId": "b5b17e31-4177-424d-a77d-6e7976b15bef"
      },
      "source": [
        "#apply ttest_ind to calculate the p value and draw conclusions\n",
        "from scipy.stats import ttest_ind\n",
        "\n",
        "\n",
        "test_stat, p_value = ttest_ind(old_times, new_times, equal_var = False, alternative = 'less')\n",
        "print('The p value is: ', p_value)"
      ],
      "id": "fac8594a",
      "execution_count": null,
      "outputs": [
        {
          "output_type": "stream",
          "name": "stdout",
          "text": [
            "The p value is:  0.0001392381225166549\n"
          ]
        }
      ]
    },
    {
      "cell_type": "markdown",
      "metadata": {
        "id": "359b12f8"
      },
      "source": [
        "### Step 6: Compare the p-value with $\\alpha$"
      ],
      "id": "359b12f8"
    },
    {
      "cell_type": "code",
      "metadata": {
        "id": "7be47289",
        "colab": {
          "base_uri": "https://localhost:8080/"
        },
        "outputId": "24b889b5-6906-49c9-b44f-9a3293c8fbd2"
      },
      "source": [
        "#use boolean to declare hypothesis statement\n",
        "if p_value < 0.05:\n",
        "  print('We reject the Null Hypothesis. There is significant evidence that users spend Less time on the Old Landing Page and the New Landing Page.')\n",
        "else:\n",
        "  print('We fail to reject the Null Hypothesis. There is NOT significant evidence that users spend Less time on the Old Landing Page than the New Landing Page.')"
      ],
      "id": "7be47289",
      "execution_count": null,
      "outputs": [
        {
          "output_type": "stream",
          "name": "stdout",
          "text": [
            "We reject the Null Hypothesis. There is significant evidence that users spend Less time on the Old Landing Page and the New Landing Page.\n"
          ]
        }
      ]
    },
    {
      "cell_type": "markdown",
      "metadata": {
        "id": "d9affc84"
      },
      "source": [
        "### Step 7:  Draw inference"
      ],
      "id": "d9affc84"
    },
    {
      "cell_type": "markdown",
      "metadata": {
        "id": "6b16dd4b"
      },
      "source": [
        "With a P-Value of (~0.00013) the data shows that, on average, Less time is spent on the Old Landing Page compared to the New Landing Page. The ENews website's new design encourages users to explore more of their website; it is recommended that ENews continues using the New display of the Landing Page.\n",
        "It is best practice to move forward with the platform that encourages longer engagement from users."
      ],
      "id": "6b16dd4b"
    },
    {
      "cell_type": "markdown",
      "metadata": {
        "id": "1ad0823a"
      },
      "source": [
        "**A similar approach can be followed to answer the other questions.**"
      ],
      "id": "1ad0823a"
    },
    {
      "cell_type": "markdown",
      "metadata": {
        "id": "353e9d24"
      },
      "source": [
        "## 2. Is the conversion rate (the proportion of users who visit the landing page and get converted) for the new page greater than the conversion rate for the old page?"
      ],
      "id": "353e9d24"
    },
    {
      "cell_type": "code",
      "source": [
        "#create a visual display\n",
        "pd.crosstab(enews.landing_page, enews.converted, normalize=False).plot(kind='bar', stacked=True)"
      ],
      "metadata": {
        "colab": {
          "base_uri": "https://localhost:8080/",
          "height": 481
        },
        "id": "Sq72imG2MO-g",
        "outputId": "fca37ec2-60b2-4c8f-c394-d238396a3333"
      },
      "id": "Sq72imG2MO-g",
      "execution_count": null,
      "outputs": [
        {
          "output_type": "execute_result",
          "data": {
            "text/plain": [
              "<Axes: xlabel='landing_page'>"
            ]
          },
          "metadata": {},
          "execution_count": 80
        },
        {
          "output_type": "display_data",
          "data": {
            "text/plain": [
              "<Figure size 640x480 with 1 Axes>"
            ],
            "image/png": "[encoded data removed]"
          },
          "metadata": {}
        }
      ]
    },
    {
      "cell_type": "markdown",
      "source": [
        "- The bar plot shows a higher proportion of converted users when engaging with the New Landing page. We must check if this relationship is statistically significant using a 2 Sample Proportion Z Test.\n",
        "\n",
        "It is worth mentioning that the proportions meet the assumptions of the Z-Test such that, for each landing page proportion, np & n(1-p) > 10.\n",
        "\n",
        "Example of assumptions being met:\n",
        "New Landing Page Converted Users np Check: 50(33/50) = 33 > 10\n",
        "\n",
        "New Landing Page Converted Users n(1-p) Check: 50(17/50) = 17 > 10"
      ],
      "metadata": {
        "id": "XDix7m99wsQ0"
      },
      "id": "XDix7m99wsQ0"
    },
    {
      "cell_type": "code",
      "metadata": {
        "id": "b7f52898",
        "colab": {
          "base_uri": "https://localhost:8080/"
        },
        "outputId": "ae1e2eac-a6d4-4073-c14b-822f0028a73b"
      },
      "source": [
        "print('Null Hypothesis: the proportion of users who got converted from the Old landing page is the same as the new landing page.', '\\n',\n",
        "      'Alternative Hypothesis: the proportion of converted users from the Old landing page is Less than those converted with the New landing page')\n",
        "\n",
        "#import required statistical test\n",
        "from statsmodels.stats.proportion import proportions_ztest\n",
        "\n",
        "# set the converted counts for each group // numerators of each proportion\n",
        "old_converts = enews[enews['landing_page']=='old']['converted'].value_counts()['yes']\n",
        "new_converts = enews[enews['landing_page']=='new']['converted'].value_counts()['yes']\n",
        "\n",
        "#create array to input in statistical test\n",
        "converted_users = np.array([old_converts, new_converts])\n",
        "\n",
        "# set the totals from each group // denominators of each proportion\n",
        "old_user_total = enews['landing_page'].value_counts()['old']\n",
        "new_user_total = enews['landing_page'].value_counts()['new']\n",
        "\n",
        "#create array to input in statistical test\n",
        "totals = np.array([old_user_total, new_user_total])\n",
        "\n",
        "#calculate p value\n",
        "test_stat, p_value = proportions_ztest(converted_users, totals, alternative = 'smaller')\n",
        "\n",
        "# display results\n",
        "print('The p value = ', p_value)\n",
        "\n",
        "if p_value < 0.05:\n",
        "  print('We reject the Null Hypothesis. The data shows evidence that the proportion of converted users from the Old landing page is Less than those converted with the New landing page')\n",
        "else:\n",
        "  print('We fail to reject the null hypothesis. There is not significant data to support that the proportion of converted users from the Old landing page is less than those converted with the New landing page.')"
      ],
      "id": "b7f52898",
      "execution_count": null,
      "outputs": [
        {
          "output_type": "stream",
          "name": "stdout",
          "text": [
            "Null Hypothesis: the proportion of users who got converted from the Old landing page is the same as the new landing page. \n",
            " Alternative Hypothesis: the proportion of converted users from the Old landing page is Less than those converted with the New landing page\n",
            "The p value =  0.008026308204056278\n",
            "We reject the Null Hypothesis. The data shows evidence that the proportion of converted users from the Old landing page is Less than those converted with the New landing page\n"
          ]
        }
      ]
    },
    {
      "cell_type": "markdown",
      "source": [
        "Inference:\n",
        "The Treatment group, also known as the users who received the New Landing Page, showed to be more likely to subscribe to the ENews platform than those in the Control Group receiving the Old Landing Page.\n",
        "The New Landing page is an effective feature that ENews should continue to implement in order to gain more subscribers. The Old Landing page does not serve the goals of the company as well as their new product."
      ],
      "metadata": {
        "id": "_9orHHPk4wuQ"
      },
      "id": "_9orHHPk4wuQ"
    },
    {
      "cell_type": "markdown",
      "metadata": {
        "id": "d49bfa2d"
      },
      "source": [
        "## 3. Is the conversion and preferred language are independent or related?"
      ],
      "id": "d49bfa2d"
    },
    {
      "cell_type": "code",
      "metadata": {
        "id": "b0e63f17"
      },
      "source": [
        "#save a copy of enews to be safe\n",
        "chi_enews = enews.copy()"
      ],
      "id": "b0e63f17",
      "execution_count": null,
      "outputs": []
    },
    {
      "cell_type": "code",
      "source": [
        "#use the copy to create a contingency table to tabulate the frequencies of the two categorical variables\n",
        "cont_table = pd.crosstab(chi_enews.language_preferred, chi_enews.converted, margins = False, normalize = False)\n",
        "cont_table"
      ],
      "metadata": {
        "colab": {
          "base_uri": "https://localhost:8080/",
          "height": 175
        },
        "id": "CfA12BxTJy1A",
        "outputId": "be9f47d5-5cad-4a87-df11-03179e77e31f"
      },
      "id": "CfA12BxTJy1A",
      "execution_count": null,
      "outputs": [
        {
          "output_type": "execute_result",
          "data": {
            "text/plain": [
              "converted           no  yes\n",
              "language_preferred         \n",
              "English             11   21\n",
              "French              19   15\n",
              "Spanish             16   18"
            ],
            "text/html": [
              "\n",
              "  <div id=\"df-242fc690-23cc-4f53-8bfe-04baa765e25e\" class=\"colab-df-container\">\n",
              "    <div>\n",
              "<style scoped>\n",
              "    .dataframe tbody tr th:only-of-type {\n",
              "        vertical-align: middle;\n",
              "    }\n",
              "\n",
              "    .dataframe tbody tr th {\n",
              "        vertical-align: top;\n",
              "    }\n",
              "\n",
              "    .dataframe thead th {\n",
              "        text-align: right;\n",
              "    }\n",
              "</style>\n",
              "<table border=\"1\" class=\"dataframe\">\n",
              "  <thead>\n",
              "    <tr style=\"text-align: right;\">\n",
              "      <th>converted</th>\n",
              "      <th>no</th>\n",
              "      <th>yes</th>\n",
              "    </tr>\n",
              "    <tr>\n",
              "      <th>language_preferred</th>\n",
              "      <th></th>\n",
              "      <th></th>\n",
              "    </tr>\n",
              "  </thead>\n",
              "  <tbody>\n",
              "    <tr>\n",
              "      <th>English</th>\n",
              "      <td>11</td>\n",
              "      <td>21</td>\n",
              "    </tr>\n",
              "    <tr>\n",
              "      <th>French</th>\n",
              "      <td>19</td>\n",
              "      <td>15</td>\n",
              "    </tr>\n",
              "    <tr>\n",
              "      <th>Spanish</th>\n",
              "      <td>16</td>\n",
              "      <td>18</td>\n",
              "    </tr>\n",
              "  </tbody>\n",
              "</table>\n",
              "</div>\n",
              "    <div class=\"colab-df-buttons\">\n",
              "\n",
              "  <div class=\"colab-df-container\">\n",
              "    <button class=\"colab-df-convert\" onclick=\"convertToInteractive('df-242fc690-23cc-4f53-8bfe-04baa765e25e')\"\n",
              "            title=\"Convert this dataframe to an interactive table.\"\n",
              "            style=\"display:none;\">\n",
              "\n",
              "  <svg xmlns=\"http://www.w3.org/2000/svg\" height=\"24px\" viewBox=\"0 -960 960 960\">\n",
              "    <path d=\"M120-120v-720h720v720H120Zm60-500h600v-160H180v160Zm220 220h160v-160H400v160Zm0 220h160v-160H400v160ZM180-400h160v-160H180v160Zm440 0h160v-160H620v160ZM180-180h160v-160H180v160Zm440 0h160v-160H620v160Z\"/>\n",
              "  </svg>\n",
              "    </button>\n",
              "\n",
              "  <style>\n",
              "    .colab-df-container {\n",
              "      display:flex;\n",
              "      gap: 12px;\n",
              "    }\n",
              "\n",
              "    .colab-df-convert {\n",
              "      background-color: #E8F0FE;\n",
              "      border: none;\n",
              "      border-radius: 50%;\n",
              "      cursor: pointer;\n",
              "      display: none;\n",
              "      fill: #1967D2;\n",
              "      height: 32px;\n",
              "      padding: 0 0 0 0;\n",
              "      width: 32px;\n",
              "    }\n",
              "\n",
              "    .colab-df-convert:hover {\n",
              "      background-color: #E2EBFA;\n",
              "      box-shadow: 0px 1px 2px rgba(60, 64, 67, 0.3), 0px 1px 3px 1px rgba(60, 64, 67, 0.15);\n",
              "      fill: #174EA6;\n",
              "    }\n",
              "\n",
              "    .colab-df-buttons div {\n",
              "      margin-bottom: 4px;\n",
              "    }\n",
              "\n",
              "    [theme=dark] .colab-df-convert {\n",
              "      background-color: #3B4455;\n",
              "      fill: #D2E3FC;\n",
              "    }\n",
              "\n",
              "    [theme=dark] .colab-df-convert:hover {\n",
              "      background-color: #434B5C;\n",
              "      box-shadow: 0px 1px 3px 1px rgba(0, 0, 0, 0.15);\n",
              "      filter: drop-shadow(0px 1px 2px rgba(0, 0, 0, 0.3));\n",
              "      fill: #FFFFFF;\n",
              "    }\n",
              "  </style>\n",
              "\n",
              "    <script>\n",
              "      const buttonEl =\n",
              "        document.querySelector('#df-242fc690-23cc-4f53-8bfe-04baa765e25e button.colab-df-convert');\n",
              "      buttonEl.style.display =\n",
              "        google.colab.kernel.accessAllowed ? 'block' : 'none';\n",
              "\n",
              "      async function convertToInteractive(key) {\n",
              "        const element = document.querySelector('#df-242fc690-23cc-4f53-8bfe-04baa765e25e');\n",
              "        const dataTable =\n",
              "          await google.colab.kernel.invokeFunction('convertToInteractive',\n",
              "                                                    [key], {});\n",
              "        if (!dataTable) return;\n",
              "\n",
              "        const docLinkHtml = 'Like what you see? Visit the ' +\n",
              "          '<a target=\"_blank\" href=https://colab.research.google.com/notebooks/data_table.ipynb>data table notebook</a>'\n",
              "          + ' to learn more about interactive tables.';\n",
              "        element.innerHTML = '';\n",
              "        dataTable['output_type'] = 'display_data';\n",
              "        await google.colab.output.renderOutput(dataTable, element);\n",
              "        const docLink = document.createElement('div');\n",
              "        docLink.innerHTML = docLinkHtml;\n",
              "        element.appendChild(docLink);\n",
              "      }\n",
              "    </script>\n",
              "  </div>\n",
              "\n",
              "\n",
              "<div id=\"df-79022f68-223c-4b77-bfb1-3ca38da52981\">\n",
              "  <button class=\"colab-df-quickchart\" onclick=\"quickchart('df-79022f68-223c-4b77-bfb1-3ca38da52981')\"\n",
              "            title=\"Suggest charts\"\n",
              "            style=\"display:none;\">\n",
              "\n",
              "<svg xmlns=\"http://www.w3.org/2000/svg\" height=\"24px\"viewBox=\"0 0 24 24\"\n",
              "     width=\"24px\">\n",
              "    <g>\n",
              "        <path d=\"M19 3H5c-1.1 0-2 .9-2 2v14c0 1.1.9 2 2 2h14c1.1 0 2-.9 2-2V5c0-1.1-.9-2-2-2zM9 17H7v-7h2v7zm4 0h-2V7h2v10zm4 0h-2v-4h2v4z\"/>\n",
              "    </g>\n",
              "</svg>\n",
              "  </button>\n",
              "\n",
              "<style>\n",
              "  .colab-df-quickchart {\n",
              "      --bg-color: #E8F0FE;\n",
              "      --fill-color: #1967D2;\n",
              "      --hover-bg-color: #E2EBFA;\n",
              "      --hover-fill-color: #174EA6;\n",
              "      --disabled-fill-color: #AAA;\n",
              "      --disabled-bg-color: #DDD;\n",
              "  }\n",
              "\n",
              "  [theme=dark] .colab-df-quickchart {\n",
              "      --bg-color: #3B4455;\n",
              "      --fill-color: #D2E3FC;\n",
              "      --hover-bg-color: #434B5C;\n",
              "      --hover-fill-color: #FFFFFF;\n",
              "      --disabled-bg-color: #3B4455;\n",
              "      --disabled-fill-color: #666;\n",
              "  }\n",
              "\n",
              "  .colab-df-quickchart {\n",
              "    background-color: var(--bg-color);\n",
              "    border: none;\n",
              "    border-radius: 50%;\n",
              "    cursor: pointer;\n",
              "    display: none;\n",
              "    fill: var(--fill-color);\n",
              "    height: 32px;\n",
              "    padding: 0;\n",
              "    width: 32px;\n",
              "  }\n",
              "\n",
              "  .colab-df-quickchart:hover {\n",
              "    background-color: var(--hover-bg-color);\n",
              "    box-shadow: 0 1px 2px rgba(60, 64, 67, 0.3), 0 1px 3px 1px rgba(60, 64, 67, 0.15);\n",
              "    fill: var(--button-hover-fill-color);\n",
              "  }\n",
              "\n",
              "  .colab-df-quickchart-complete:disabled,\n",
              "  .colab-df-quickchart-complete:disabled:hover {\n",
              "    background-color: var(--disabled-bg-color);\n",
              "    fill: var(--disabled-fill-color);\n",
              "    box-shadow: none;\n",
              "  }\n",
              "\n",
              "  .colab-df-spinner {\n",
              "    border: 2px solid var(--fill-color);\n",
              "    border-color: transparent;\n",
              "    border-bottom-color: var(--fill-color);\n",
              "    animation:\n",
              "      spin 1s steps(1) infinite;\n",
              "  }\n",
              "\n",
              "  @keyframes spin {\n",
              "    0% {\n",
              "      border-color: transparent;\n",
              "      border-bottom-color: var(--fill-color);\n",
              "      border-left-color: var(--fill-color);\n",
              "    }\n",
              "    20% {\n",
              "      border-color: transparent;\n",
              "      border-left-color: var(--fill-color);\n",
              "      border-top-color: var(--fill-color);\n",
              "    }\n",
              "    30% {\n",
              "      border-color: transparent;\n",
              "      border-left-color: var(--fill-color);\n",
              "      border-top-color: var(--fill-color);\n",
              "      border-right-color: var(--fill-color);\n",
              "    }\n",
              "    40% {\n",
              "      border-color: transparent;\n",
              "      border-right-color: var(--fill-color);\n",
              "      border-top-color: var(--fill-color);\n",
              "    }\n",
              "    60% {\n",
              "      border-color: transparent;\n",
              "      border-right-color: var(--fill-color);\n",
              "    }\n",
              "    80% {\n",
              "      border-color: transparent;\n",
              "      border-right-color: var(--fill-color);\n",
              "      border-bottom-color: var(--fill-color);\n",
              "    }\n",
              "    90% {\n",
              "      border-color: transparent;\n",
              "      border-bottom-color: var(--fill-color);\n",
              "    }\n",
              "  }\n",
              "</style>\n",
              "\n",
              "  <script>\n",
              "    async function quickchart(key) {\n",
              "      const quickchartButtonEl =\n",
              "        document.querySelector('#' + key + ' button');\n",
              "      quickchartButtonEl.disabled = true;  // To prevent multiple clicks.\n",
              "      quickchartButtonEl.classList.add('colab-df-spinner');\n",
              "      try {\n",
              "        const charts = await google.colab.kernel.invokeFunction(\n",
              "            'suggestCharts', [key], {});\n",
              "      } catch (error) {\n",
              "        console.error('Error during call to suggestCharts:', error);\n",
              "      }\n",
              "      quickchartButtonEl.classList.remove('colab-df-spinner');\n",
              "      quickchartButtonEl.classList.add('colab-df-quickchart-complete');\n",
              "    }\n",
              "    (() => {\n",
              "      let quickchartButtonEl =\n",
              "        document.querySelector('#df-79022f68-223c-4b77-bfb1-3ca38da52981 button');\n",
              "      quickchartButtonEl.style.display =\n",
              "        google.colab.kernel.accessAllowed ? 'block' : 'none';\n",
              "    })();\n",
              "  </script>\n",
              "</div>\n",
              "\n",
              "  <div id=\"id_5ff4b044-f1ac-442e-8cdd-6b1a2157ee66\">\n",
              "    <style>\n",
              "      .colab-df-generate {\n",
              "        background-color: #E8F0FE;\n",
              "        border: none;\n",
              "        border-radius: 50%;\n",
              "        cursor: pointer;\n",
              "        display: none;\n",
              "        fill: #1967D2;\n",
              "        height: 32px;\n",
              "        padding: 0 0 0 0;\n",
              "        width: 32px;\n",
              "      }\n",
              "\n",
              "      .colab-df-generate:hover {\n",
              "        background-color: #E2EBFA;\n",
              "        box-shadow: 0px 1px 2px rgba(60, 64, 67, 0.3), 0px 1px 3px 1px rgba(60, 64, 67, 0.15);\n",
              "        fill: #174EA6;\n",
              "      }\n",
              "\n",
              "      [theme=dark] .colab-df-generate {\n",
              "        background-color: #3B4455;\n",
              "        fill: #D2E3FC;\n",
              "      }\n",
              "\n",
              "      [theme=dark] .colab-df-generate:hover {\n",
              "        background-color: #434B5C;\n",
              "        box-shadow: 0px 1px 3px 1px rgba(0, 0, 0, 0.15);\n",
              "        filter: drop-shadow(0px 1px 2px rgba(0, 0, 0, 0.3));\n",
              "        fill: #FFFFFF;\n",
              "      }\n",
              "    </style>\n",
              "    <button class=\"colab-df-generate\" onclick=\"generateWithVariable('cont_table')\"\n",
              "            title=\"Generate code using this dataframe.\"\n",
              "            style=\"display:none;\">\n",
              "\n",
              "  <svg xmlns=\"http://www.w3.org/2000/svg\" height=\"24px\"viewBox=\"0 0 24 24\"\n",
              "       width=\"24px\">\n",
              "    <path d=\"M7,19H8.4L18.45,9,17,7.55,7,17.6ZM5,21V16.75L18.45,3.32a2,2,0,0,1,2.83,0l1.4,1.43a1.91,1.91,0,0,1,.58,1.4,1.91,1.91,0,0,1-.58,1.4L9.25,21ZM18.45,9,17,7.55Zm-12,3A5.31,5.31,0,0,0,4.9,8.1,5.31,5.31,0,0,0,1,6.5,5.31,5.31,0,0,0,4.9,4.9,5.31,5.31,0,0,0,6.5,1,5.31,5.31,0,0,0,8.1,4.9,5.31,5.31,0,0,0,12,6.5,5.46,5.46,0,0,0,6.5,12Z\"/>\n",
              "  </svg>\n",
              "    </button>\n",
              "    <script>\n",
              "      (() => {\n",
              "      const buttonEl =\n",
              "        document.querySelector('#id_5ff4b044-f1ac-442e-8cdd-6b1a2157ee66 button.colab-df-generate');\n",
              "      buttonEl.style.display =\n",
              "        google.colab.kernel.accessAllowed ? 'block' : 'none';\n",
              "\n",
              "      buttonEl.onclick = () => {\n",
              "        google.colab.notebook.generateWithVariable('cont_table');\n",
              "      }\n",
              "      })();\n",
              "    </script>\n",
              "  </div>\n",
              "\n",
              "    </div>\n",
              "  </div>\n"
            ],
            "application/vnd.google.colaboratory.intrinsic+json": {
              "type": "dataframe",
              "variable_name": "cont_table",
              "summary": "{\n  \"name\": \"cont_table\",\n  \"rows\": 3,\n  \"fields\": [\n    {\n      \"column\": \"language_preferred\",\n      \"properties\": {\n        \"dtype\": \"string\",\n        \"num_unique_values\": 3,\n        \"samples\": [\n          \"English\",\n          \"French\",\n          \"Spanish\"\n        ],\n        \"semantic_type\": \"\",\n        \"description\": \"\"\n      }\n    },\n    {\n      \"column\": \"no\",\n      \"properties\": {\n        \"dtype\": \"number\",\n        \"std\": 4,\n        \"min\": 11,\n        \"max\": 19,\n        \"num_unique_values\": 3,\n        \"samples\": [\n          11,\n          19,\n          16\n        ],\n        \"semantic_type\": \"\",\n        \"description\": \"\"\n      }\n    },\n    {\n      \"column\": \"yes\",\n      \"properties\": {\n        \"dtype\": \"number\",\n        \"std\": 3,\n        \"min\": 15,\n        \"max\": 21,\n        \"num_unique_values\": 3,\n        \"samples\": [\n          21,\n          15,\n          18\n        ],\n        \"semantic_type\": \"\",\n        \"description\": \"\"\n      }\n    }\n  ]\n}"
            }
          },
          "metadata": {},
          "execution_count": 83
        }
      ]
    },
    {
      "cell_type": "markdown",
      "source": [
        "\n",
        "Analysis of Categorical Variables:\n",
        "- There are a total of 100 people in the data\n",
        "- 32% of users prefer English, 34% prefer French, 34% prefer Spanish\n",
        "- About 66% of English users converted\n",
        "- About 44% of French users converted\n",
        "- About 53% of spanish sers converted\n",
        "\n"
      ],
      "metadata": {
        "id": "VuJGclye83jP"
      },
      "id": "VuJGclye83jP"
    },
    {
      "cell_type": "code",
      "source": [
        "#visualize the above statements regarding the insights of the contingency table using a bar plot\n",
        "cont_table.plot(kind='bar', stacked= True)\n",
        "plt.show()"
      ],
      "metadata": {
        "colab": {
          "base_uri": "https://localhost:8080/",
          "height": 490
        },
        "id": "OOQKT2HW9qK5",
        "outputId": "70b6b250-080d-4ff6-d29d-a9e37aba6df9"
      },
      "id": "OOQKT2HW9qK5",
      "execution_count": null,
      "outputs": [
        {
          "output_type": "display_data",
          "data": {
            "text/plain": [
              "<Figure size 640x480 with 1 Axes>"
            ],
            "image/png": "[encoded data removed]"
          },
          "metadata": {}
        }
      ]
    },
    {
      "cell_type": "markdown",
      "source": [
        "Based on the sample data, we can see that English users have highest proportion of converting. We will check if the differences amongst the Languages is significant.\n",
        "We will apply a Chi-Square Test of Independence."
      ],
      "metadata": {
        "id": "EhC9aPy--Mjl"
      },
      "id": "EhC9aPy--Mjl"
    },
    {
      "cell_type": "code",
      "source": [
        "#Set the null and alternate hypothesis of the Chi Square statistical test.\n",
        "print('The Null Hypothesis is that the converted users are independent of preferred language.', '\\n',\n",
        "      'The alternative hypothesis is that the converted users depend on preferred language.', '\\n', 'The test will be completed with a significance level of alpha = 0.05')\n"
      ],
      "metadata": {
        "colab": {
          "base_uri": "https://localhost:8080/"
        },
        "id": "Sp3e7ss4-2KX",
        "outputId": "06386ece-bfc7-4e62-db45-a8ee46844dc4"
      },
      "id": "Sp3e7ss4-2KX",
      "execution_count": null,
      "outputs": [
        {
          "output_type": "stream",
          "name": "stdout",
          "text": [
            "The Null Hypothesis is that the converted users are independent of preferred language. \n",
            " The alternative hypothesis is that the converted users depend on preferred language. \n",
            " The test will be completed with a significance level of alpha = 0.05\n"
          ]
        }
      ]
    },
    {
      "cell_type": "code",
      "source": [
        "#import required test\n",
        "from scipy.stats import chi2_contingency\n",
        "#calculate the test results using our contingency table\n",
        "chi, p_value, dof, expected = chi2_contingency(cont_table)\n",
        "\n",
        "#view results\n",
        "print('Test Statistic = ', chi)\n",
        "print('print value = ', p_value)\n",
        "print('Degrees of Freedon = ', dof)\n",
        "print('Expected Frequencies: \\n', expected)\n",
        "\n",
        "#compare p value to alpha\n",
        "if p_value < 0.05:\n",
        "  print('We reject the null hypothesis. We have significant evidence that converted users are depdendent on preferred language.')\n",
        "else:\n",
        "  print('We fail to reject the null hypothesis. There is not significant evidence to state that converted users have a relationship to preferred language.')"
      ],
      "metadata": {
        "colab": {
          "base_uri": "https://localhost:8080/"
        },
        "id": "dNt01s9Z_KB1",
        "outputId": "6b91519d-aaef-46fe-b944-767a444c27c7"
      },
      "id": "dNt01s9Z_KB1",
      "execution_count": null,
      "outputs": [
        {
          "output_type": "stream",
          "name": "stdout",
          "text": [
            "Test Statistic =  3.0930306905370832\n",
            "print value =  0.2129888748754345\n",
            "Degrees of Freedon =  2\n",
            "Expected Frequencies: \n",
            " [[14.72 17.28]\n",
            " [15.64 18.36]\n",
            " [15.64 18.36]]\n",
            "We fail to reject the null hypothesis. There is not significant evidence to state that converted users have a relationship to preferred language.\n"
          ]
        }
      ]
    },
    {
      "cell_type": "markdown",
      "source": [
        "Inference:\n",
        "Since the p value is NOT less than a 5% signifcance level, we must work under the assumption that converted users and their preferred lagnuages are independent of of each other.\n",
        "ENews does not have a stronger or weaker market for gaining subscribers of one language category compared to others."
      ],
      "metadata": {
        "id": "0eQe0NH1Ak3b"
      },
      "id": "0eQe0NH1Ak3b"
    },
    {
      "cell_type": "markdown",
      "metadata": {
        "id": "8d585a90"
      },
      "source": [
        "## 4. Is the time spent on the new page same for the different language users?"
      ],
      "id": "8d585a90"
    },
    {
      "cell_type": "code",
      "source": [
        "#recall bivariate analysis of time spent and preferred language\n",
        "sns.boxplot(data=enews, x='time_spent_on_the_page', y='language_preferred')\n",
        "plt.show()"
      ],
      "metadata": {
        "colab": {
          "base_uri": "https://localhost:8080/",
          "height": 450
        },
        "id": "X5ZBcmngBQdl",
        "outputId": "16d4f155-970f-4b82-92a0-e7c9b8ac042f"
      },
      "id": "X5ZBcmngBQdl",
      "execution_count": null,
      "outputs": [
        {
          "output_type": "display_data",
          "data": {
            "text/plain": [
              "<Figure size 640x480 with 1 Axes>"
            ],
            "image/png": "[encoded data removed]"
          },
          "metadata": {}
        }
      ]
    },
    {
      "cell_type": "markdown",
      "source": [
        "Insights:\n",
        "- The distributions of time spent seems to differ among the three language categories.\n",
        "- The median time spent is very close for French and Spanish, but the variation is higher for French users compared to Spanish.\n",
        "We will apply an ANOVA test to check if the observed disparities amongst the three languages is significant and better understand the users within these categories."
      ],
      "metadata": {
        "id": "g1RiL4ahBrPi"
      },
      "id": "g1RiL4ahBrPi"
    },
    {
      "cell_type": "code",
      "source": [
        "#check the assumption of Normality required to complete a One-Way ANOVA Test\n",
        "print('Null Hypothesis: the time spent for the language categories follow a normal distribution.', '\\n', 'Alternative Hypothesis: the time spent for the language categories do not follow a normal distribtuion')\n",
        "\n",
        "#import required test to check normality\n",
        "from scipy.stats import shapiro\n",
        "\n",
        "#calculate p value\n",
        "test_stat, p_value = shapiro(enews['time_spent_on_the_page'])\n",
        "\n",
        "#display result\n",
        "print('The p value = ', p_value)\n",
        "if p_value < 0.05:\n",
        "  print('We reject the Null Hypothesis. The time spent does not follow a normal distribution and we cannot complete a One-Way ANOVA test.')\n",
        "else:\n",
        "  print('We fail to reject the Null Hypothesis. We can assume the time spent follows a normal distirbtuion and can continue with our statistical test.')"
      ],
      "metadata": {
        "colab": {
          "base_uri": "https://localhost:8080/"
        },
        "id": "NMEWLf4RCYOj",
        "outputId": "2987872d-1340-43df-ad1f-08e8d748214d"
      },
      "id": "NMEWLf4RCYOj",
      "execution_count": null,
      "outputs": [
        {
          "output_type": "stream",
          "name": "stdout",
          "text": [
            "Null Hypothesis: the time spent for the language categories follow a normal distribution. \n",
            " Alternative Hypothesis: the time spent for the language categories do not follow a normal distribtuion\n",
            "The p value =  0.5643193125724792\n",
            "We fail to reject the Null Hypothesis. We can assume the time spent follows a normal distirbtuion and can continue with our statistical test.\n"
          ]
        }
      ]
    },
    {
      "cell_type": "code",
      "source": [
        "#check the assumption of Homogenity of Variance required to continue a One-Way ANOVA Test\n",
        "print('Null Hypothesis: all population variances are equal.', '\\n', 'Alternate Hypothesis: At least one variance is different from the rest.')\n",
        "\n",
        "#import required test to check equivalence of population variances\n",
        "from scipy.stats import levene\n",
        "\n",
        "#calculate p value\n",
        "test_stat, p_value = levene(enews[enews['language_preferred']=='French']['time_spent_on_the_page'],\n",
        "enews[enews['language_preferred']=='English']['time_spent_on_the_page'], enews[enews['language_preferred']=='Spanish']['time_spent_on_the_page'])\n",
        "\n",
        "#display result\n",
        "print('the p value = ', p_value)\n",
        "if p_value < 0.05:\n",
        "  print('We reject the null hypothesis. The population variances cannot be assumed equivalent; we cannot complete a One-Way ANOVA test.')\n",
        "else:\n",
        "  print('We fail to reject the null hypothesis. The population variances can be assumed equivalent; we can continue with our statistical test.')"
      ],
      "metadata": {
        "colab": {
          "base_uri": "https://localhost:8080/"
        },
        "id": "5BOx0ndGEGO_",
        "outputId": "754eec37-04f7-4bbc-f609-20ff50d29748"
      },
      "id": "5BOx0ndGEGO_",
      "execution_count": null,
      "outputs": [
        {
          "output_type": "stream",
          "name": "stdout",
          "text": [
            "Null Hypothesis: all population variances are equal. \n",
            " Alternate Hypothesis: At least one variance is different from the rest.\n",
            "the p value =  0.06515086840327314\n",
            "We fail to reject the null hypothesis. The population variances can be assumed equivalent; we can continue with our statistical test.\n"
          ]
        }
      ]
    },
    {
      "cell_type": "code",
      "source": [
        "#create variables to store time data with respect to language\n",
        "french_time = enews[enews['language_preferred']=='French']['time_spent_on_the_page']\n",
        "english_time = enews[enews['language_preferred']=='English']['time_spent_on_the_page']\n",
        "spanish_time = enews[enews['language_preferred']=='Spanish']['time_spent_on_the_page']\n",
        "\n",
        "#Define null and alternative hypothesis\n",
        "print('Null Hypothesis: the mean time spent on page is equal for all three language categories.', '\\n', 'Alternative Hypothesis: at least one of the mean times spent in the three language categories is different.',\n",
        "      '\\n', 'We will complete the test at a 5% level of significance.')\n",
        "\n",
        "#import required test\n",
        "from scipy.stats import f_oneway\n",
        "\n",
        "#calculate p value\n",
        "test_stat, p_value = f_oneway(french_time, english_time, spanish_time)\n",
        "\n",
        "#display result\n",
        "print('The p value = ', p_value)\n",
        "if p_value < 0.05:\n",
        "  print('We reject the null hypothesis. There is significant evidence that at least one of the three languages has a different average of time spent on the page.')\n",
        "else:\n",
        "  print('We fail to reject the null hypothesis. There is not enough statistical evidence to declare the mean times different for any of the three languages.')"
      ],
      "metadata": {
        "colab": {
          "base_uri": "https://localhost:8080/"
        },
        "id": "1MPvI5INGjVq",
        "outputId": "f7513f8a-6381-4f99-d1f4-a8a9132f84d7"
      },
      "id": "1MPvI5INGjVq",
      "execution_count": null,
      "outputs": [
        {
          "output_type": "stream",
          "name": "stdout",
          "text": [
            "Null Hypothesis: the mean time spent on page is equal for all three language categories. \n",
            " Alternative Hypothesis: at least one of the mean times spent in the three language categories is different. \n",
            " We will complete the test at a 5% level of significance.\n",
            "The p value =  0.8665610536012648\n",
            "We fail to reject the null hypothesis. There is not enough statistical evidence to declare the mean times different for any of the three languages.\n"
          ]
        }
      ]
    },
    {
      "cell_type": "markdown",
      "source": [
        "Inference:\n",
        "With a p-value greater than our level of significance (alpha = 0.05), we see that the relationships between time and language preference do not differ significantly. This means that English, French, and Spanish-speaking users of ENews have very similar time-based habits on the platform. The company does not need to investigate further into the relationship between time spent on the page for each preferred language."
      ],
      "metadata": {
        "id": "ymw4BLPR7sQu"
      },
      "id": "ymw4BLPR7sQu"
    },
    {
      "cell_type": "markdown",
      "metadata": {
        "id": "3acbc947"
      },
      "source": [
        "## Conclusion and Business Recommendations"
      ],
      "id": "3acbc947"
    },
    {
      "cell_type": "markdown",
      "metadata": {
        "id": "21fb1063"
      },
      "source": [
        "- The A/B test conducted for ENews displayed promising results for the New Landing Page in respect to time of engagement as well as promoting subscriptions:\n",
        "  - Data showed that the design of the New Landing Page was effectively researched and implemented. Users that interacted with the New page spent more time looking over what it had to offer.\n",
        "  - Data showed that the New Landing page promoted more users to subscribe to ENews than their previous platform. ENews was correct in their concerns in over their old platform.\n",
        "\n",
        "- ENews offers the same design to users regardless of language preference (English, Spanish, French). There is not disparity in the subscriber ('converted') or time spent characteristics based on language.\n",
        "  - The data did NOT show statistical evidence of one language having different expected subscribing rates compared others. The two categories are independent. It is not recommended for ENews to dedicate themselves to further investigations of the relationship between subscriber rates and language.\n",
        "  - The data did NOT show that the average time spent on the platform significantly varied with respect to preferred language. Users of all languages are engaging with the landing page(s) at similar rates.\n",
        "    - If ENews changes more elements of their platform based on the users' preferred language, these tests should be repeated for further analysis.\n",
        "\n",
        "Overall Recommendations:\n",
        "- ENews must broadcast the New Landing Page to all users as soon as possible, as it is the most effective tool to reach their goals of gaining subscribers.\n",
        "- ENews should reflect on where their platform is most commonly used (e.g., Central America, North America, Europe). This may allow ENews to initiate a new experiment to collect further language information and revisit the studies where we Failed to Reject the Null Hypothesis.\n",
        "- Alternatively, ENews could provide our Data Science team with a larger sample size (e.g., 1,000 users) to better investigate the relationships and differences with users' languages and engagement with their platform.\n",
        "\n",
        "Happy Learning!"
      ],
      "id": "21fb1063"
    },
    {
      "cell_type": "markdown",
      "source": [
        "___"
      ],
      "metadata": {
        "id": "U0dAd4i0iCHo"
      },
      "id": "U0dAd4i0iCHo"
    },
    {
      "cell_type": "code",
      "source": [],
      "metadata": {
        "id": "GkpawvFrGSbw"
      },
      "id": "GkpawvFrGSbw",
      "execution_count": null,
      "outputs": []
    }
  ]
}